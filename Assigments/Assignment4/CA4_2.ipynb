{
 "cells": [
  {
   "cell_type": "code",
   "execution_count": 7,
   "metadata": {},
   "outputs": [],
   "source": [
    "import matplotlib.pyplot as plt \n",
    "import seaborn as sns \n",
    "import pandas as pd\n",
    "import numpy as np\n",
    "from scipy import stats"
   ]
  },
  {
   "cell_type": "code",
   "execution_count": 8,
   "metadata": {},
   "outputs": [],
   "source": [
    "raw_train = pd.read_csv('train.csv', index_col=0)\n",
    "test_data = pd.read_csv('test.csv', index_col=0)"
   ]
  },
  {
   "cell_type": "code",
   "execution_count": 9,
   "metadata": {},
   "outputs": [
    {
     "name": "stdout",
     "output_type": "stream",
     "text": [
      "index                         0\n",
      "AFP (ng/mL)                   0\n",
      "ALP (U/L)                     0\n",
      "ALT (U/L)                     0\n",
      "AST (U/L)                     0\n",
      "Age                           0\n",
      "Albumin (g/dL)                0\n",
      "Alcohol_Use (yes/no)          0\n",
      "Bilirubin (mg/dL)             0\n",
      "CRP (mg/L)                    0\n",
      "Diabetes (yes/no)             0\n",
      "Fibroscan (kPa)               0\n",
      "GGT (U/L)                     0\n",
      "Gender                        0\n",
      "Hemoglobin (g/dL)             0\n",
      "IL-6 (pg/mL)                  0\n",
      "Obesity (yes/no)              0\n",
      "PT/INR                        0\n",
      "Platelets (10^9/L)            0\n",
      "RBC (10^12/L)                 0\n",
      "Serum_Ammonia (μmol/L)        0\n",
      "Serum_Copper (μg/dL)          0\n",
      "Serum_Creatinine (mg/dL)      0\n",
      "Serum_Iron (μg/dL)            0\n",
      "Serum_Lactate (mmol/L)        0\n",
      "Serum_Urea (mg/dL)            0\n",
      "Serum_Zinc (μg/dL)            0\n",
      "TIBC (μg/dL)                  0\n",
      "Transferrin_Saturation (%)    0\n",
      "WBC (10^9/L)                  0\n",
      "pH                            0\n",
      "Diagnosis                     0\n",
      "dtype: int64\n"
     ]
    },
    {
     "data": {
      "text/plain": [
       "(703, 32)"
      ]
     },
     "execution_count": 9,
     "metadata": {},
     "output_type": "execute_result"
    }
   ],
   "source": [
    "# check for missing values\n",
    "print(raw_train.isnull().sum())\n",
    "raw_train.shape"
   ]
  },
  {
   "cell_type": "code",
   "execution_count": 10,
   "metadata": {},
   "outputs": [
    {
     "name": "stdout",
     "output_type": "stream",
     "text": [
      "Diagnosis\n",
      "Healthy                      250\n",
      "Hepatitis                    113\n",
      "Autoimmune Liver Diseases     79\n",
      "Drug-induced Liver Injury     73\n",
      "Cirrhosis                     71\n",
      "Fatty Liver Disease           62\n",
      "Liver Cancer                  55\n",
      "Name: count, dtype: int64\n"
     ]
    }
   ],
   "source": [
    "#raw_train.head()\n",
    "print(raw_train['Diagnosis'].value_counts())"
   ]
  },
  {
   "cell_type": "code",
   "execution_count": 11,
   "metadata": {},
   "outputs": [
    {
     "name": "stdout",
     "output_type": "stream",
     "text": [
      "index                         0\n",
      "AFP (ng/mL)                   0\n",
      "ALP (U/L)                     0\n",
      "ALT (U/L)                     0\n",
      "AST (U/L)                     0\n",
      "Age                           0\n",
      "Albumin (g/dL)                0\n",
      "Alcohol_Use (yes/no)          0\n",
      "Bilirubin (mg/dL)             0\n",
      "CRP (mg/L)                    0\n",
      "Diabetes (yes/no)             0\n",
      "Fibroscan (kPa)               0\n",
      "GGT (U/L)                     0\n",
      "Gender                        0\n",
      "Hemoglobin (g/dL)             0\n",
      "IL-6 (pg/mL)                  0\n",
      "Obesity (yes/no)              0\n",
      "PT/INR                        0\n",
      "Platelets (10^9/L)            0\n",
      "RBC (10^12/L)                 0\n",
      "Serum_Ammonia (μmol/L)        0\n",
      "Serum_Copper (μg/dL)          0\n",
      "Serum_Creatinine (mg/dL)      0\n",
      "Serum_Iron (μg/dL)            0\n",
      "Serum_Lactate (mmol/L)        0\n",
      "Serum_Urea (mg/dL)            0\n",
      "Serum_Zinc (μg/dL)            0\n",
      "TIBC (μg/dL)                  0\n",
      "Transferrin_Saturation (%)    0\n",
      "WBC (10^9/L)                  0\n",
      "pH                            0\n",
      "dtype: int64\n"
     ]
    },
    {
     "data": {
      "text/plain": [
       "(703, 32)"
      ]
     },
     "execution_count": 11,
     "metadata": {},
     "output_type": "execute_result"
    }
   ],
   "source": [
    "print(test_data.isnull().sum())\n",
    "raw_train.shape"
   ]
  },
  {
   "cell_type": "code",
   "execution_count": null,
   "metadata": {},
   "outputs": [],
   "source": [
    "# convert yes and no to 1 and 0\n",
    "df = raw_train\n",
    "columns_to_encode = ['Alcohol_Use (yes/no)','Diabetes (yes/no)', 'Gender','Obesity (yes/no)', 'Diagnosis']\n",
    "le = LabelEncoder()\n",
    "for col in columns_to_encode:\n",
    "    if df[col].dtype == 'object':\n",
    "        df[col] = le.fit_transform(df[col])\n",
    "df  "
   ]
  },
  {
   "cell_type": "code",
   "execution_count": 12,
   "metadata": {},
   "outputs": [
    {
     "name": "stdout",
     "output_type": "stream",
     "text": [
      "Shape of dataset before removing outliers(703, 32)\n"
     ]
    },
    {
     "ename": "TypeError",
     "evalue": "unsupported operand type(s) for /: 'str' and 'int'",
     "output_type": "error",
     "traceback": [
      "\u001b[0;31m---------------------------------------------------------------------------\u001b[0m",
      "\u001b[0;31mTypeError\u001b[0m                                 Traceback (most recent call last)",
      "\u001b[1;32m/Users/73rabann/Desktop/DAT200/Assigments/Assignment4/CA4_2.ipynb Cell 6\u001b[0m line \u001b[0;36m4\n\u001b[1;32m      <a href='vscode-notebook-cell:/Users/73rabann/Desktop/DAT200/Assigments/Assignment4/CA4_2.ipynb#W6sZmlsZQ%3D%3D?line=1'>2</a>\u001b[0m df \u001b[39m=\u001b[39m raw_train\n\u001b[1;32m      <a href='vscode-notebook-cell:/Users/73rabann/Desktop/DAT200/Assigments/Assignment4/CA4_2.ipynb#W6sZmlsZQ%3D%3D?line=2'>3</a>\u001b[0m \u001b[39mprint\u001b[39m(\u001b[39mf\u001b[39m\u001b[39m'\u001b[39m\u001b[39mShape of dataset before removing outliers\u001b[39m\u001b[39m{\u001b[39;00mdf\u001b[39m.\u001b[39mshape\u001b[39m}\u001b[39;00m\u001b[39m'\u001b[39m)\n\u001b[0;32m----> <a href='vscode-notebook-cell:/Users/73rabann/Desktop/DAT200/Assigments/Assignment4/CA4_2.ipynb#W6sZmlsZQ%3D%3D?line=3'>4</a>\u001b[0m z_scores \u001b[39m=\u001b[39m stats\u001b[39m.\u001b[39;49mzscore(df) \u001b[39m# calculates z score\u001b[39;00m\n\u001b[1;32m      <a href='vscode-notebook-cell:/Users/73rabann/Desktop/DAT200/Assigments/Assignment4/CA4_2.ipynb#W6sZmlsZQ%3D%3D?line=4'>5</a>\u001b[0m abs_z_scores \u001b[39m=\u001b[39m np\u001b[39m.\u001b[39mabs(z_scores)\n\u001b[1;32m      <a href='vscode-notebook-cell:/Users/73rabann/Desktop/DAT200/Assigments/Assignment4/CA4_2.ipynb#W6sZmlsZQ%3D%3D?line=5'>6</a>\u001b[0m not_outliers \u001b[39m=\u001b[39m (abs_z_scores \u001b[39m<\u001b[39m \u001b[39m3\u001b[39m)\u001b[39m.\u001b[39mall(axis\u001b[39m=\u001b[39m\u001b[39m1\u001b[39m)\n",
      "File \u001b[0;32m~/Desktop/DAT200/.venv/lib/python3.11/site-packages/scipy/stats/_stats_py.py:2941\u001b[0m, in \u001b[0;36mzscore\u001b[0;34m(a, axis, ddof, nan_policy)\u001b[0m\n\u001b[1;32m   2859\u001b[0m \u001b[39mdef\u001b[39;00m \u001b[39mzscore\u001b[39m(a, axis\u001b[39m=\u001b[39m\u001b[39m0\u001b[39m, ddof\u001b[39m=\u001b[39m\u001b[39m0\u001b[39m, nan_policy\u001b[39m=\u001b[39m\u001b[39m'\u001b[39m\u001b[39mpropagate\u001b[39m\u001b[39m'\u001b[39m):\n\u001b[1;32m   2860\u001b[0m \u001b[39m    \u001b[39m\u001b[39m\"\"\"\u001b[39;00m\n\u001b[1;32m   2861\u001b[0m \u001b[39m    Compute the z score.\u001b[39;00m\n\u001b[1;32m   2862\u001b[0m \n\u001b[0;32m   (...)\u001b[0m\n\u001b[1;32m   2939\u001b[0m \u001b[39m           [-0.91611681, -0.89090508,  1.4983032 ,  0.88731639, -0.5785977 ]])\u001b[39;00m\n\u001b[1;32m   2940\u001b[0m \u001b[39m    \"\"\"\u001b[39;00m\n\u001b[0;32m-> 2941\u001b[0m     \u001b[39mreturn\u001b[39;00m zmap(a, a, axis\u001b[39m=\u001b[39;49maxis, ddof\u001b[39m=\u001b[39;49mddof, nan_policy\u001b[39m=\u001b[39;49mnan_policy)\n",
      "File \u001b[0;32m~/Desktop/DAT200/.venv/lib/python3.11/site-packages/scipy/stats/_stats_py.py:3105\u001b[0m, in \u001b[0;36mzmap\u001b[0;34m(scores, compare, axis, ddof, nan_policy)\u001b[0m\n\u001b[1;32m   3103\u001b[0m         isconst \u001b[39m=\u001b[39m np\u001b[39m.\u001b[39mapply_along_axis(_isconst, axis, a)\n\u001b[1;32m   3104\u001b[0m \u001b[39melse\u001b[39;00m:\n\u001b[0;32m-> 3105\u001b[0m     mn \u001b[39m=\u001b[39m a\u001b[39m.\u001b[39;49mmean(axis\u001b[39m=\u001b[39;49maxis, keepdims\u001b[39m=\u001b[39;49m\u001b[39mTrue\u001b[39;49;00m)\n\u001b[1;32m   3106\u001b[0m     std \u001b[39m=\u001b[39m a\u001b[39m.\u001b[39mstd(axis\u001b[39m=\u001b[39maxis, ddof\u001b[39m=\u001b[39mddof, keepdims\u001b[39m=\u001b[39m\u001b[39mTrue\u001b[39;00m)\n\u001b[1;32m   3107\u001b[0m     \u001b[39m# The intent is to check whether all elements of `a` along `axis` are\u001b[39;00m\n\u001b[1;32m   3108\u001b[0m     \u001b[39m# identical. Due to finite precision arithmetic, comparing elements\u001b[39;00m\n\u001b[1;32m   3109\u001b[0m     \u001b[39m# against `mn` doesn't work. Previously, this compared elements to\u001b[39;00m\n\u001b[1;32m   3110\u001b[0m     \u001b[39m# `_first`, but that extracts the element at index 0 regardless of\u001b[39;00m\n\u001b[1;32m   3111\u001b[0m     \u001b[39m# whether it is masked. As a simple fix, compare against `min`.\u001b[39;00m\n",
      "File \u001b[0;32m~/Desktop/DAT200/.venv/lib/python3.11/site-packages/numpy/core/_methods.py:121\u001b[0m, in \u001b[0;36m_mean\u001b[0;34m(a, axis, dtype, out, keepdims, where)\u001b[0m\n\u001b[1;32m    119\u001b[0m \u001b[39mif\u001b[39;00m \u001b[39misinstance\u001b[39m(ret, mu\u001b[39m.\u001b[39mndarray):\n\u001b[1;32m    120\u001b[0m     \u001b[39mwith\u001b[39;00m _no_nep50_warning():\n\u001b[0;32m--> 121\u001b[0m         ret \u001b[39m=\u001b[39m um\u001b[39m.\u001b[39;49mtrue_divide(\n\u001b[1;32m    122\u001b[0m                 ret, rcount, out\u001b[39m=\u001b[39;49mret, casting\u001b[39m=\u001b[39;49m\u001b[39m'\u001b[39;49m\u001b[39munsafe\u001b[39;49m\u001b[39m'\u001b[39;49m, subok\u001b[39m=\u001b[39;49m\u001b[39mFalse\u001b[39;49;00m)\n\u001b[1;32m    123\u001b[0m     \u001b[39mif\u001b[39;00m is_float16_result \u001b[39mand\u001b[39;00m out \u001b[39mis\u001b[39;00m \u001b[39mNone\u001b[39;00m:\n\u001b[1;32m    124\u001b[0m         ret \u001b[39m=\u001b[39m arr\u001b[39m.\u001b[39mdtype\u001b[39m.\u001b[39mtype(ret)\n",
      "\u001b[0;31mTypeError\u001b[0m: unsupported operand type(s) for /: 'str' and 'int'"
     ]
    }
   ],
   "source": [
    "# Using Z-scores to filter out the outliers. Z-score < |3|\n",
    "print(f'Shape of dataset before removing outliers{df.shape}')\n",
    "z_scores = stats.zscore(df) # calculates z score\n",
    "abs_z_scores = np.abs(z_scores)\n",
    "not_outliers = (abs_z_scores < 3).all(axis=1)\n",
    "cleaned = df[not_outliers]\n",
    "print(f'Shape of dataset after removing outliers {cleaned.shape}')\n"
   ]
  }
 ],
 "metadata": {
  "kernelspec": {
   "display_name": ".venv",
   "language": "python",
   "name": "python3"
  },
  "language_info": {
   "codemirror_mode": {
    "name": "ipython",
    "version": 3
   },
   "file_extension": ".py",
   "mimetype": "text/x-python",
   "name": "python",
   "nbconvert_exporter": "python",
   "pygments_lexer": "ipython3",
   "version": "3.11.5"
  },
  "orig_nbformat": 4
 },
 "nbformat": 4,
 "nbformat_minor": 2
}
