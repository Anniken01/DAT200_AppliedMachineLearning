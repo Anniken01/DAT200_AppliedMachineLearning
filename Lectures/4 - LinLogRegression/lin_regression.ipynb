{
 "cells": [
  {
   "cell_type": "code",
   "execution_count": null,
   "metadata": {},
   "outputs": [],
   "source": [
    "import matplotlib.pyplot as plt\n",
    "import numpy as np\n",
    "import pandas as pd\n",
    "import seaborn as sns\n",
    "from sklearn.datasets import load_diabetes"
   ]
  },
  {
   "cell_type": "code",
   "execution_count": null,
   "metadata": {},
   "outputs": [],
   "source": [
    "diabetes = load_diabetes()  # data is standardized\n",
    "df = pd.DataFrame(data=diabetes.data, columns=diabetes.feature_names)[[\"bmi\"]]\n",
    "df[\"disease_progression\"] = pd.Series(diabetes.target)\n",
    "g = sns.pairplot(df, vars=df.columns)\n",
    "plt.show()"
   ]
  },
  {
   "cell_type": "code",
   "execution_count": null,
   "metadata": {},
   "outputs": [],
   "source": [
    "# extract data\n",
    "x = df[\"bmi\"].values\n",
    "y = df[\"disease_progression\"].values\n",
    "\n",
    "# add feature 1 to the data\n",
    "X = np.c_[np.ones(x.shape), x]\n",
    "\n",
    "# least squares solution\n",
    "w = np.dot(np.linalg.inv(np.dot(X.T, X)), np.dot(X.T, y))\n",
    "\n",
    "# predicted values\n",
    "y_pred = np.dot(X, w)\n",
    "\n",
    "# plot regression line and data\n",
    "plt.title(\"Least squares fit: y = {:.3f}x + {:.3f}\".format(w[1], w[0]))\n",
    "plt.scatter(df[\"bmi\"], df[\"disease_progression\"])\n",
    "plt.plot(df[\"bmi\"], y_pred, color=\"red\")\n",
    "plt.xlabel(\"BMI\")\n",
    "plt.ylabel(\"Disease progression\")\n",
    "plt.show()"
   ]
  }
 ],
 "metadata": {
  "language_info": {
   "name": "python"
  }
 },
 "nbformat": 4,
 "nbformat_minor": 2
}
