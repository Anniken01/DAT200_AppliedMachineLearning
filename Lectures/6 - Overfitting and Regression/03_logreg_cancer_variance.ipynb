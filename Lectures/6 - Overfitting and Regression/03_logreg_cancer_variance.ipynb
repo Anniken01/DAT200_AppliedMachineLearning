{
 "cells": [
  {
   "cell_type": "code",
   "execution_count": 1,
   "metadata": {},
   "outputs": [
    {
     "name": "stdout",
     "output_type": "stream",
     "text": [
      "Average test accuracy across 100 splits for C=1e-05 is 0.933 +/- 0.018\n",
      "Average train accuracy across 100 splits for C=1e-05 is 0.933 +/- 0.006\n"
     ]
    }
   ],
   "source": [
    "# ==============================================================================\n",
    "# Import modules\n",
    "# ==============================================================================\n",
    "\n",
    "import numpy as np\n",
    "from sklearn import datasets\n",
    "from sklearn.linear_model import LogisticRegression\n",
    "from sklearn.model_selection import train_test_split\n",
    "from sklearn.preprocessing import StandardScaler\n",
    "\n",
    "# ==============================================================================\n",
    "# Load data and select features Split into training and test data\n",
    "# ==============================================================================\n",
    "data = datasets.load_breast_cancer()\n",
    "X = data.data\n",
    "y = data.target\n",
    "\n",
    "test_accuracies = []\n",
    "train_accuracies = []\n",
    "C = 1e-5\n",
    "for rs in range(1, 101):\n",
    "    # Split data into training and test data (70% training, 30% test)\n",
    "    X_train, X_test, y_train, y_test = train_test_split(X, y, test_size=0.3, random_state=rs, stratify=y)\n",
    "\n",
    "    # Standardize features\n",
    "    sc = StandardScaler()\n",
    "    sc.fit(X_train)\n",
    "    X_train_sc = sc.transform(X_train)\n",
    "    X_test_sc = sc.transform(X_test)\n",
    "\n",
    "    clf = LogisticRegression(penalty=\"l2\", solver=\"liblinear\", random_state=1, C=C)\n",
    "    clf.fit(X_train_sc, y_train)\n",
    "\n",
    "    test_score = clf.score(X_test_sc, y_test)\n",
    "    train_score = clf.score(X_train_sc, y_train)\n",
    "    test_accuracies.append(test_score)\n",
    "    train_accuracies.append(train_score)\n",
    "\n",
    "print(\n",
    "    f\"Average test accuracy across 100 splits for C={C}\"\n",
    "    f\" is {np.mean(test_accuracies):.3f} +/- {np.std(test_accuracies):.3f}\"\n",
    ")\n",
    "print(\n",
    "    f\"Average train accuracy across 100 splits for C={C}\"\n",
    "    f\" is {np.mean(train_accuracies):.3f} +/- {np.std(train_accuracies):.3f}\"\n",
    ")"
   ]
  }
 ],
 "metadata": {
  "kernelspec": {
   "display_name": ".venv",
   "language": "python",
   "name": "python3"
  },
  "language_info": {
   "codemirror_mode": {
    "name": "ipython",
    "version": 3
   },
   "file_extension": ".py",
   "mimetype": "text/x-python",
   "name": "python",
   "nbconvert_exporter": "python",
   "pygments_lexer": "ipython3",
   "version": "3.11.5"
  }
 },
 "nbformat": 4,
 "nbformat_minor": 2
}
