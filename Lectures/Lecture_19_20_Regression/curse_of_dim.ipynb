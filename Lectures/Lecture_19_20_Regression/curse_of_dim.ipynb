{
 "cells": [
  {
   "cell_type": "code",
   "execution_count": null,
   "metadata": {},
   "outputs": [],
   "source": [
    "import numpy as np\n",
    "import matplotlib.pyplot as plt\n",
    "from scipy.spatial.distance import pdist\n",
    "\n",
    "def average_distance_increasing_dimensions(max_dims, num_points=10):\n",
    "    average_distances = []\n",
    "    dimensions = range(1, max_dims + 1)\n",
    "    \n",
    "    for dim in dimensions:\n",
    "        # Generate random points in a unit hypercube for 'dim' dimensions\n",
    "        points = np.random.rand(num_points, dim)\n",
    "        # Compute all pairwise distances\n",
    "        distances = pdist(points, 'euclidean')\n",
    "        # Calculate the average distance\n",
    "        average_distance = np.mean(distances)\n",
    "        average_distances.append(average_distance)\n",
    "    \n",
    "    # Plotting the results\n",
    "    plt.figure(figsize=(10, 6))\n",
    "    plt.plot(dimensions, average_distances, marker='o')\n",
    "    plt.xlabel('Number of Dimensions')\n",
    "    plt.ylabel('Average Distance Between Points')\n",
    "    plt.title('Curse of Dimensionality: Average Distance vs. Dimensionality')\n",
    "    plt.grid(True)\n",
    "    plt.show()\n",
    "\n",
    "# Example usage\n",
    "average_distance_increasing_dimensions(max_dims=200)"
   ]
  },
  {
   "cell_type": "code",
   "execution_count": null,
   "metadata": {},
   "outputs": [],
   "source": [
    "# Theoretical curves, distance between objects and distance object to origin\n",
    "import numpy as np\n",
    "import matplotlib.pyplot as plt\n",
    "fe = np.array([1,2,3,5,10,20,50,100,200,500,1000,2000,5000,10000])\n",
    "fe = np.logspace(0,3,1000)\n",
    "uni_int = (-1,1)\n",
    "L = uni_int[1]-uni_int[0]\n",
    "plt.plot(fe, np.sqrt(fe/3-1/12), ':', label='to origin', linewidth=3)\n",
    "plt.plot(fe, np.sqrt((fe-1/3)/6)*2/(2-1)*L, label='pair-wise, n=2')\n",
    "plt.plot(fe, np.sqrt((fe-1/3)/6)*5/(5-1)*L, label='pair-wise, n=5')\n",
    "plt.plot(fe, np.sqrt((fe-1/3)/6)*10/(10-1)*L, label='pair-wise, n=10')\n",
    "plt.plot(fe, np.sqrt((fe-1/3)/6)*100/(100-1)*L, label='pair-wise, n=100')\n",
    "plt.xlabel('#features')\n",
    "plt.ylabel('Mean distance')\n",
    "plt.title('Uniform random samples - distance between')\n",
    "plt.legend()\n",
    "plt.grid()\n",
    "plt.show()"
   ]
  }
 ],
 "metadata": {
  "language_info": {
   "name": "python"
  }
 },
 "nbformat": 4,
 "nbformat_minor": 2
}
