{
 "cells": [
  {
   "cell_type": "code",
   "execution_count": 1,
   "metadata": {},
   "outputs": [
    {
     "name": "stderr",
     "output_type": "stream",
     "text": [
      "/var/folders/qf/9lcflp0s1nq8l85_tw03dz180000gp/T/ipykernel_52409/1998366259.py:1: DeprecationWarning: \n",
      "Pyarrow will become a required dependency of pandas in the next major release of pandas (pandas 3.0),\n",
      "(to allow more performant data types, such as the Arrow string type, and better interoperability with other libraries)\n",
      "but was not found to be installed on your system.\n",
      "If this would cause problems for you,\n",
      "please provide us feedback at https://github.com/pandas-dev/pandas/issues/54466\n",
      "        \n",
      "  import pandas as pd\n"
     ]
    },
    {
     "data": {
      "text/html": [
       "<style type=\"text/css\">\n",
       "#T_49080_row0_col0, #T_49080_row0_col1, #T_49080_row0_col2, #T_49080_row0_col3 {\n",
       "  background-color: #f7fcf5;\n",
       "  color: #000000;\n",
       "}\n",
       "#T_49080_row1_col0, #T_49080_row1_col1 {\n",
       "  background-color: #88ce87;\n",
       "  color: #000000;\n",
       "}\n",
       "#T_49080_row1_col2, #T_49080_row2_col3 {\n",
       "  background-color: #000000;\n",
       "  color: #f1f1f1;\n",
       "  background-color: orange;\n",
       "}\n",
       "#T_49080_row1_col3, #T_49080_row2_col0, #T_49080_row2_col1, #T_49080_row2_col2 {\n",
       "  background-color: #00441b;\n",
       "  color: #f1f1f1;\n",
       "}\n",
       "</style>\n",
       "<table id=\"T_49080\">\n",
       "  <thead>\n",
       "    <tr>\n",
       "      <th class=\"blank level0\" >&nbsp;</th>\n",
       "      <th id=\"T_49080_level0_col0\" class=\"col_heading level0 col0\" >A</th>\n",
       "      <th id=\"T_49080_level0_col1\" class=\"col_heading level0 col1\" >B</th>\n",
       "      <th id=\"T_49080_level0_col2\" class=\"col_heading level0 col2\" >C</th>\n",
       "      <th id=\"T_49080_level0_col3\" class=\"col_heading level0 col3\" >D</th>\n",
       "    </tr>\n",
       "  </thead>\n",
       "  <tbody>\n",
       "    <tr>\n",
       "      <th id=\"T_49080_level0_row0\" class=\"row_heading level0 row0\" >0</th>\n",
       "      <td id=\"T_49080_row0_col0\" class=\"data row0 col0\" >1.00</td>\n",
       "      <td id=\"T_49080_row0_col1\" class=\"data row0 col1\" >2.00</td>\n",
       "      <td id=\"T_49080_row0_col2\" class=\"data row0 col2\" >3.00</td>\n",
       "      <td id=\"T_49080_row0_col3\" class=\"data row0 col3\" >4.00</td>\n",
       "    </tr>\n",
       "    <tr>\n",
       "      <th id=\"T_49080_level0_row1\" class=\"row_heading level0 row1\" >1</th>\n",
       "      <td id=\"T_49080_row1_col0\" class=\"data row1 col0\" >5.00</td>\n",
       "      <td id=\"T_49080_row1_col1\" class=\"data row1 col1\" >6.00</td>\n",
       "      <td id=\"T_49080_row1_col2\" class=\"data row1 col2\" >nan</td>\n",
       "      <td id=\"T_49080_row1_col3\" class=\"data row1 col3\" >8.00</td>\n",
       "    </tr>\n",
       "    <tr>\n",
       "      <th id=\"T_49080_level0_row2\" class=\"row_heading level0 row2\" >2</th>\n",
       "      <td id=\"T_49080_row2_col0\" class=\"data row2 col0\" >10.00</td>\n",
       "      <td id=\"T_49080_row2_col1\" class=\"data row2 col1\" >11.00</td>\n",
       "      <td id=\"T_49080_row2_col2\" class=\"data row2 col2\" >12.00</td>\n",
       "      <td id=\"T_49080_row2_col3\" class=\"data row2 col3\" >nan</td>\n",
       "    </tr>\n",
       "  </tbody>\n",
       "</table>\n"
      ],
      "text/plain": [
       "<pandas.io.formats.style.Styler at 0x106670b10>"
      ]
     },
     "execution_count": 1,
     "metadata": {},
     "output_type": "execute_result"
    }
   ],
   "source": [
    "import pandas as pd\n",
    "import numpy as np\n",
    "from io import StringIO\n",
    "\n",
    "# Create a small dataset to analyze\n",
    "\n",
    "csv_data = \"\"\"\n",
    "A,B,C,D\n",
    "1.0,2.0,3.0,4.0\n",
    "5.0,6.0,,8.0\n",
    "10.0,11.0,12.0,\n",
    "\"\"\"\n",
    "\n",
    "# read the CSV data into a pandas DataFrame\n",
    "df = pd.read_csv(StringIO(csv_data))\n",
    "\n",
    "# show the dataset\n",
    "def show_dataset(df):\n",
    "    return df.style.background_gradient(cmap='Greens').highlight_null('orange').format(\"{:.2f}\")\n",
    "\n",
    "show_dataset(df)"
   ]
  },
  {
   "cell_type": "markdown",
   "metadata": {},
   "source": [
    "# Removing missing values"
   ]
  },
  {
   "cell_type": "code",
   "execution_count": 2,
   "metadata": {},
   "outputs": [
    {
     "data": {
      "text/plain": [
       "A    0\n",
       "B    0\n",
       "C    1\n",
       "D    1\n",
       "dtype: int64"
      ]
     },
     "execution_count": 2,
     "metadata": {},
     "output_type": "execute_result"
    }
   ],
   "source": [
    "# =============================================================================\n",
    "# Identify columns containg missing values\n",
    "# =============================================================================\n",
    "df.isnull().sum()\n"
   ]
  },
  {
   "cell_type": "code",
   "execution_count": 3,
   "metadata": {},
   "outputs": [
    {
     "name": "stdout",
     "output_type": "stream",
     "text": [
      "[[ 1.  2.  3.  4.]\n",
      " [ 5.  6. nan  8.]\n",
      " [10. 11. 12. nan]]\n"
     ]
    }
   ],
   "source": [
    "# ===========================================\n",
    "# Access numpy array from pandas data frame\n",
    "# ============================================\n",
    "# access the underlying NumPy array\n",
    "# via the `values` attribute\n",
    "df_array = df.values\n",
    "print(df_array)"
   ]
  },
  {
   "cell_type": "code",
   "execution_count": 4,
   "metadata": {},
   "outputs": [
    {
     "data": {
      "text/html": [
       "<style type=\"text/css\">\n",
       "#T_00ff2_row0_col0, #T_00ff2_row0_col1, #T_00ff2_row0_col2, #T_00ff2_row0_col3 {\n",
       "  background-color: #f7fcf5;\n",
       "  color: #000000;\n",
       "}\n",
       "#T_00ff2_row1_col0, #T_00ff2_row1_col1 {\n",
       "  background-color: #88ce87;\n",
       "  color: #000000;\n",
       "}\n",
       "#T_00ff2_row1_col2, #T_00ff2_row2_col3 {\n",
       "  background-color: #000000;\n",
       "  color: #f1f1f1;\n",
       "  background-color: orange;\n",
       "}\n",
       "#T_00ff2_row1_col3, #T_00ff2_row2_col0, #T_00ff2_row2_col1, #T_00ff2_row2_col2 {\n",
       "  background-color: #00441b;\n",
       "  color: #f1f1f1;\n",
       "}\n",
       "</style>\n",
       "<table id=\"T_00ff2\">\n",
       "  <thead>\n",
       "    <tr>\n",
       "      <th class=\"blank level0\" >&nbsp;</th>\n",
       "      <th id=\"T_00ff2_level0_col0\" class=\"col_heading level0 col0\" >A</th>\n",
       "      <th id=\"T_00ff2_level0_col1\" class=\"col_heading level0 col1\" >B</th>\n",
       "      <th id=\"T_00ff2_level0_col2\" class=\"col_heading level0 col2\" >C</th>\n",
       "      <th id=\"T_00ff2_level0_col3\" class=\"col_heading level0 col3\" >D</th>\n",
       "    </tr>\n",
       "  </thead>\n",
       "  <tbody>\n",
       "    <tr>\n",
       "      <th id=\"T_00ff2_level0_row0\" class=\"row_heading level0 row0\" >0</th>\n",
       "      <td id=\"T_00ff2_row0_col0\" class=\"data row0 col0\" >1.00</td>\n",
       "      <td id=\"T_00ff2_row0_col1\" class=\"data row0 col1\" >2.00</td>\n",
       "      <td id=\"T_00ff2_row0_col2\" class=\"data row0 col2\" >3.00</td>\n",
       "      <td id=\"T_00ff2_row0_col3\" class=\"data row0 col3\" >4.00</td>\n",
       "    </tr>\n",
       "    <tr>\n",
       "      <th id=\"T_00ff2_level0_row1\" class=\"row_heading level0 row1\" >1</th>\n",
       "      <td id=\"T_00ff2_row1_col0\" class=\"data row1 col0\" >5.00</td>\n",
       "      <td id=\"T_00ff2_row1_col1\" class=\"data row1 col1\" >6.00</td>\n",
       "      <td id=\"T_00ff2_row1_col2\" class=\"data row1 col2\" >nan</td>\n",
       "      <td id=\"T_00ff2_row1_col3\" class=\"data row1 col3\" >8.00</td>\n",
       "    </tr>\n",
       "    <tr>\n",
       "      <th id=\"T_00ff2_level0_row2\" class=\"row_heading level0 row2\" >2</th>\n",
       "      <td id=\"T_00ff2_row2_col0\" class=\"data row2 col0\" >10.00</td>\n",
       "      <td id=\"T_00ff2_row2_col1\" class=\"data row2 col1\" >11.00</td>\n",
       "      <td id=\"T_00ff2_row2_col2\" class=\"data row2 col2\" >12.00</td>\n",
       "      <td id=\"T_00ff2_row2_col3\" class=\"data row2 col3\" >nan</td>\n",
       "    </tr>\n",
       "  </tbody>\n",
       "</table>\n"
      ],
      "text/plain": [
       "<pandas.io.formats.style.Styler at 0x106668210>"
      ]
     },
     "execution_count": 4,
     "metadata": {},
     "output_type": "execute_result"
    }
   ],
   "source": [
    "# show initial dataset again\n",
    "show_dataset(df)"
   ]
  },
  {
   "cell_type": "code",
   "execution_count": 5,
   "metadata": {},
   "outputs": [
    {
     "data": {
      "text/html": [
       "<style type=\"text/css\">\n",
       "#T_23b84_row0_col0, #T_23b84_row0_col1, #T_23b84_row0_col2, #T_23b84_row0_col3 {\n",
       "  background-color: #f7fcf5;\n",
       "  color: #000000;\n",
       "}\n",
       "</style>\n",
       "<table id=\"T_23b84\">\n",
       "  <thead>\n",
       "    <tr>\n",
       "      <th class=\"blank level0\" >&nbsp;</th>\n",
       "      <th id=\"T_23b84_level0_col0\" class=\"col_heading level0 col0\" >A</th>\n",
       "      <th id=\"T_23b84_level0_col1\" class=\"col_heading level0 col1\" >B</th>\n",
       "      <th id=\"T_23b84_level0_col2\" class=\"col_heading level0 col2\" >C</th>\n",
       "      <th id=\"T_23b84_level0_col3\" class=\"col_heading level0 col3\" >D</th>\n",
       "    </tr>\n",
       "  </thead>\n",
       "  <tbody>\n",
       "    <tr>\n",
       "      <th id=\"T_23b84_level0_row0\" class=\"row_heading level0 row0\" >0</th>\n",
       "      <td id=\"T_23b84_row0_col0\" class=\"data row0 col0\" >1.00</td>\n",
       "      <td id=\"T_23b84_row0_col1\" class=\"data row0 col1\" >2.00</td>\n",
       "      <td id=\"T_23b84_row0_col2\" class=\"data row0 col2\" >3.00</td>\n",
       "      <td id=\"T_23b84_row0_col3\" class=\"data row0 col3\" >4.00</td>\n",
       "    </tr>\n",
       "  </tbody>\n",
       "</table>\n"
      ],
      "text/plain": [
       "<pandas.io.formats.style.Styler at 0x11ed0d350>"
      ]
     },
     "execution_count": 5,
     "metadata": {},
     "output_type": "execute_result"
    }
   ],
   "source": [
    "# ===========================================\n",
    "# (A) Remove rows that contain missing values\n",
    "# ============================================\n",
    "a = df.dropna(axis=0)\n",
    "\n",
    "# show the dataset\n",
    "show_dataset(a)"
   ]
  },
  {
   "cell_type": "code",
   "execution_count": 6,
   "metadata": {},
   "outputs": [
    {
     "data": {
      "text/html": [
       "<style type=\"text/css\">\n",
       "#T_34280_row0_col0, #T_34280_row0_col1 {\n",
       "  background-color: #f7fcf5;\n",
       "  color: #000000;\n",
       "}\n",
       "#T_34280_row1_col0, #T_34280_row1_col1 {\n",
       "  background-color: #88ce87;\n",
       "  color: #000000;\n",
       "}\n",
       "#T_34280_row2_col0, #T_34280_row2_col1 {\n",
       "  background-color: #00441b;\n",
       "  color: #f1f1f1;\n",
       "}\n",
       "</style>\n",
       "<table id=\"T_34280\">\n",
       "  <thead>\n",
       "    <tr>\n",
       "      <th class=\"blank level0\" >&nbsp;</th>\n",
       "      <th id=\"T_34280_level0_col0\" class=\"col_heading level0 col0\" >A</th>\n",
       "      <th id=\"T_34280_level0_col1\" class=\"col_heading level0 col1\" >B</th>\n",
       "    </tr>\n",
       "  </thead>\n",
       "  <tbody>\n",
       "    <tr>\n",
       "      <th id=\"T_34280_level0_row0\" class=\"row_heading level0 row0\" >0</th>\n",
       "      <td id=\"T_34280_row0_col0\" class=\"data row0 col0\" >1.00</td>\n",
       "      <td id=\"T_34280_row0_col1\" class=\"data row0 col1\" >2.00</td>\n",
       "    </tr>\n",
       "    <tr>\n",
       "      <th id=\"T_34280_level0_row1\" class=\"row_heading level0 row1\" >1</th>\n",
       "      <td id=\"T_34280_row1_col0\" class=\"data row1 col0\" >5.00</td>\n",
       "      <td id=\"T_34280_row1_col1\" class=\"data row1 col1\" >6.00</td>\n",
       "    </tr>\n",
       "    <tr>\n",
       "      <th id=\"T_34280_level0_row2\" class=\"row_heading level0 row2\" >2</th>\n",
       "      <td id=\"T_34280_row2_col0\" class=\"data row2 col0\" >10.00</td>\n",
       "      <td id=\"T_34280_row2_col1\" class=\"data row2 col1\" >11.00</td>\n",
       "    </tr>\n",
       "  </tbody>\n",
       "</table>\n"
      ],
      "text/plain": [
       "<pandas.io.formats.style.Styler at 0x10652c050>"
      ]
     },
     "execution_count": 6,
     "metadata": {},
     "output_type": "execute_result"
    }
   ],
   "source": [
    "# ===========================================\n",
    "# (B) Remove columns that contain missing values\n",
    "# ============================================\n",
    "b = df.dropna(axis=1)\n",
    "\n",
    "# show the dataset\n",
    "show_dataset(b)"
   ]
  },
  {
   "cell_type": "code",
   "execution_count": 7,
   "metadata": {},
   "outputs": [
    {
     "data": {
      "text/html": [
       "<style type=\"text/css\">\n",
       "#T_15303_row0_col0, #T_15303_row0_col1, #T_15303_row0_col2, #T_15303_row0_col3 {\n",
       "  background-color: #f7fcf5;\n",
       "  color: #000000;\n",
       "}\n",
       "#T_15303_row1_col0, #T_15303_row1_col1, #T_15303_row1_col3 {\n",
       "  background-color: #00441b;\n",
       "  color: #f1f1f1;\n",
       "}\n",
       "#T_15303_row1_col2, #T_15303_row2_col2 {\n",
       "  background-color: #f7fcf5;\n",
       "  color: #000000;\n",
       "  background-color: orange;\n",
       "}\n",
       "#T_15303_row2_col0, #T_15303_row2_col1, #T_15303_row2_col3 {\n",
       "  background-color: #000000;\n",
       "  color: #f1f1f1;\n",
       "  background-color: orange;\n",
       "}\n",
       "</style>\n",
       "<table id=\"T_15303\">\n",
       "  <thead>\n",
       "    <tr>\n",
       "      <th class=\"blank level0\" >&nbsp;</th>\n",
       "      <th id=\"T_15303_level0_col0\" class=\"col_heading level0 col0\" >A</th>\n",
       "      <th id=\"T_15303_level0_col1\" class=\"col_heading level0 col1\" >B</th>\n",
       "      <th id=\"T_15303_level0_col2\" class=\"col_heading level0 col2\" >C</th>\n",
       "      <th id=\"T_15303_level0_col3\" class=\"col_heading level0 col3\" >D</th>\n",
       "    </tr>\n",
       "  </thead>\n",
       "  <tbody>\n",
       "    <tr>\n",
       "      <th id=\"T_15303_level0_row0\" class=\"row_heading level0 row0\" >0</th>\n",
       "      <td id=\"T_15303_row0_col0\" class=\"data row0 col0\" >1.00</td>\n",
       "      <td id=\"T_15303_row0_col1\" class=\"data row0 col1\" >2.00</td>\n",
       "      <td id=\"T_15303_row0_col2\" class=\"data row0 col2\" >3.00</td>\n",
       "      <td id=\"T_15303_row0_col3\" class=\"data row0 col3\" >4.00</td>\n",
       "    </tr>\n",
       "    <tr>\n",
       "      <th id=\"T_15303_level0_row1\" class=\"row_heading level0 row1\" >1</th>\n",
       "      <td id=\"T_15303_row1_col0\" class=\"data row1 col0\" >5.00</td>\n",
       "      <td id=\"T_15303_row1_col1\" class=\"data row1 col1\" >6.00</td>\n",
       "      <td id=\"T_15303_row1_col2\" class=\"data row1 col2\" >nan</td>\n",
       "      <td id=\"T_15303_row1_col3\" class=\"data row1 col3\" >8.00</td>\n",
       "    </tr>\n",
       "    <tr>\n",
       "      <th id=\"T_15303_level0_row2\" class=\"row_heading level0 row2\" >2</th>\n",
       "      <td id=\"T_15303_row2_col0\" class=\"data row2 col0\" >nan</td>\n",
       "      <td id=\"T_15303_row2_col1\" class=\"data row2 col1\" >nan</td>\n",
       "      <td id=\"T_15303_row2_col2\" class=\"data row2 col2\" >nan</td>\n",
       "      <td id=\"T_15303_row2_col3\" class=\"data row2 col3\" >nan</td>\n",
       "    </tr>\n",
       "  </tbody>\n",
       "</table>\n"
      ],
      "text/plain": [
       "<pandas.io.formats.style.Styler at 0x11e5c7210>"
      ]
     },
     "execution_count": 7,
     "metadata": {},
     "output_type": "execute_result"
    }
   ],
   "source": [
    "# make one sample completely empty\n",
    "modified_df = df.copy()\n",
    "modified_df.loc[2] = np.nan\n",
    "show_dataset(modified_df)"
   ]
  },
  {
   "cell_type": "code",
   "execution_count": 8,
   "metadata": {},
   "outputs": [
    {
     "data": {
      "text/html": [
       "<style type=\"text/css\">\n",
       "#T_830ca_row0_col0, #T_830ca_row0_col1, #T_830ca_row0_col2, #T_830ca_row0_col3 {\n",
       "  background-color: #f7fcf5;\n",
       "  color: #000000;\n",
       "}\n",
       "#T_830ca_row1_col0, #T_830ca_row1_col1, #T_830ca_row1_col3 {\n",
       "  background-color: #00441b;\n",
       "  color: #f1f1f1;\n",
       "}\n",
       "#T_830ca_row1_col2 {\n",
       "  background-color: #f7fcf5;\n",
       "  color: #000000;\n",
       "  background-color: orange;\n",
       "}\n",
       "</style>\n",
       "<table id=\"T_830ca\">\n",
       "  <thead>\n",
       "    <tr>\n",
       "      <th class=\"blank level0\" >&nbsp;</th>\n",
       "      <th id=\"T_830ca_level0_col0\" class=\"col_heading level0 col0\" >A</th>\n",
       "      <th id=\"T_830ca_level0_col1\" class=\"col_heading level0 col1\" >B</th>\n",
       "      <th id=\"T_830ca_level0_col2\" class=\"col_heading level0 col2\" >C</th>\n",
       "      <th id=\"T_830ca_level0_col3\" class=\"col_heading level0 col3\" >D</th>\n",
       "    </tr>\n",
       "  </thead>\n",
       "  <tbody>\n",
       "    <tr>\n",
       "      <th id=\"T_830ca_level0_row0\" class=\"row_heading level0 row0\" >0</th>\n",
       "      <td id=\"T_830ca_row0_col0\" class=\"data row0 col0\" >1.00</td>\n",
       "      <td id=\"T_830ca_row0_col1\" class=\"data row0 col1\" >2.00</td>\n",
       "      <td id=\"T_830ca_row0_col2\" class=\"data row0 col2\" >3.00</td>\n",
       "      <td id=\"T_830ca_row0_col3\" class=\"data row0 col3\" >4.00</td>\n",
       "    </tr>\n",
       "    <tr>\n",
       "      <th id=\"T_830ca_level0_row1\" class=\"row_heading level0 row1\" >1</th>\n",
       "      <td id=\"T_830ca_row1_col0\" class=\"data row1 col0\" >5.00</td>\n",
       "      <td id=\"T_830ca_row1_col1\" class=\"data row1 col1\" >6.00</td>\n",
       "      <td id=\"T_830ca_row1_col2\" class=\"data row1 col2\" >nan</td>\n",
       "      <td id=\"T_830ca_row1_col3\" class=\"data row1 col3\" >8.00</td>\n",
       "    </tr>\n",
       "  </tbody>\n",
       "</table>\n"
      ],
      "text/plain": [
       "<pandas.io.formats.style.Styler at 0x11f096310>"
      ]
     },
     "execution_count": 8,
     "metadata": {},
     "output_type": "execute_result"
    }
   ],
   "source": [
    "# ===========================================\n",
    "# (C) Remove row where all columns are NaN\n",
    "# ============================================\n",
    "c = modified_df.dropna(how='all')\n",
    "\n",
    "# show the dataset\n",
    "show_dataset(c)"
   ]
  },
  {
   "cell_type": "code",
   "execution_count": 9,
   "metadata": {},
   "outputs": [
    {
     "data": {
      "text/html": [
       "<style type=\"text/css\">\n",
       "#T_20d2f_row0_col0, #T_20d2f_row0_col1, #T_20d2f_row0_col2, #T_20d2f_row0_col3 {\n",
       "  background-color: #f7fcf5;\n",
       "  color: #000000;\n",
       "}\n",
       "</style>\n",
       "<table id=\"T_20d2f\">\n",
       "  <thead>\n",
       "    <tr>\n",
       "      <th class=\"blank level0\" >&nbsp;</th>\n",
       "      <th id=\"T_20d2f_level0_col0\" class=\"col_heading level0 col0\" >A</th>\n",
       "      <th id=\"T_20d2f_level0_col1\" class=\"col_heading level0 col1\" >B</th>\n",
       "      <th id=\"T_20d2f_level0_col2\" class=\"col_heading level0 col2\" >C</th>\n",
       "      <th id=\"T_20d2f_level0_col3\" class=\"col_heading level0 col3\" >D</th>\n",
       "    </tr>\n",
       "  </thead>\n",
       "  <tbody>\n",
       "    <tr>\n",
       "      <th id=\"T_20d2f_level0_row0\" class=\"row_heading level0 row0\" >0</th>\n",
       "      <td id=\"T_20d2f_row0_col0\" class=\"data row0 col0\" >1.00</td>\n",
       "      <td id=\"T_20d2f_row0_col1\" class=\"data row0 col1\" >2.00</td>\n",
       "      <td id=\"T_20d2f_row0_col2\" class=\"data row0 col2\" >3.00</td>\n",
       "      <td id=\"T_20d2f_row0_col3\" class=\"data row0 col3\" >4.00</td>\n",
       "    </tr>\n",
       "  </tbody>\n",
       "</table>\n"
      ],
      "text/plain": [
       "<pandas.io.formats.style.Styler at 0x106655510>"
      ]
     },
     "execution_count": 9,
     "metadata": {},
     "output_type": "execute_result"
    }
   ],
   "source": [
    "# ===========================================\n",
    "# (D) Remove rows that have less than 4 real values\n",
    "# ============================================\n",
    "d = df.dropna(thresh=4)\n",
    "\n",
    "# show the dataset\n",
    "show_dataset(d)"
   ]
  },
  {
   "cell_type": "code",
   "execution_count": 10,
   "metadata": {},
   "outputs": [
    {
     "data": {
      "text/html": [
       "<style type=\"text/css\">\n",
       "#T_d00fe_row0_col0, #T_d00fe_row0_col1, #T_d00fe_row0_col2, #T_d00fe_row0_col3 {\n",
       "  background-color: #f7fcf5;\n",
       "  color: #000000;\n",
       "}\n",
       "#T_d00fe_row1_col0, #T_d00fe_row1_col1, #T_d00fe_row1_col2 {\n",
       "  background-color: #00441b;\n",
       "  color: #f1f1f1;\n",
       "}\n",
       "#T_d00fe_row1_col3 {\n",
       "  background-color: #f7fcf5;\n",
       "  color: #000000;\n",
       "  background-color: orange;\n",
       "}\n",
       "</style>\n",
       "<table id=\"T_d00fe\">\n",
       "  <thead>\n",
       "    <tr>\n",
       "      <th class=\"blank level0\" >&nbsp;</th>\n",
       "      <th id=\"T_d00fe_level0_col0\" class=\"col_heading level0 col0\" >A</th>\n",
       "      <th id=\"T_d00fe_level0_col1\" class=\"col_heading level0 col1\" >B</th>\n",
       "      <th id=\"T_d00fe_level0_col2\" class=\"col_heading level0 col2\" >C</th>\n",
       "      <th id=\"T_d00fe_level0_col3\" class=\"col_heading level0 col3\" >D</th>\n",
       "    </tr>\n",
       "  </thead>\n",
       "  <tbody>\n",
       "    <tr>\n",
       "      <th id=\"T_d00fe_level0_row0\" class=\"row_heading level0 row0\" >0</th>\n",
       "      <td id=\"T_d00fe_row0_col0\" class=\"data row0 col0\" >1.00</td>\n",
       "      <td id=\"T_d00fe_row0_col1\" class=\"data row0 col1\" >2.00</td>\n",
       "      <td id=\"T_d00fe_row0_col2\" class=\"data row0 col2\" >3.00</td>\n",
       "      <td id=\"T_d00fe_row0_col3\" class=\"data row0 col3\" >4.00</td>\n",
       "    </tr>\n",
       "    <tr>\n",
       "      <th id=\"T_d00fe_level0_row1\" class=\"row_heading level0 row1\" >2</th>\n",
       "      <td id=\"T_d00fe_row1_col0\" class=\"data row1 col0\" >10.00</td>\n",
       "      <td id=\"T_d00fe_row1_col1\" class=\"data row1 col1\" >11.00</td>\n",
       "      <td id=\"T_d00fe_row1_col2\" class=\"data row1 col2\" >12.00</td>\n",
       "      <td id=\"T_d00fe_row1_col3\" class=\"data row1 col3\" >nan</td>\n",
       "    </tr>\n",
       "  </tbody>\n",
       "</table>\n"
      ],
      "text/plain": [
       "<pandas.io.formats.style.Styler at 0x1066683d0>"
      ]
     },
     "execution_count": 10,
     "metadata": {},
     "output_type": "execute_result"
    }
   ],
   "source": [
    "# ===========================================\n",
    "# (E) Only drop rows where NaN appear in specific columns (here: 'C')\n",
    "# ============================================\n",
    "f = df.dropna(subset=['C'])\n",
    "\n",
    "# show the dataset\n",
    "show_dataset(f)"
   ]
  },
  {
   "cell_type": "markdown",
   "metadata": {},
   "source": [
    "# Imputing missing values"
   ]
  },
  {
   "cell_type": "code",
   "execution_count": 11,
   "metadata": {},
   "outputs": [
    {
     "data": {
      "text/html": [
       "<style type=\"text/css\">\n",
       "#T_027c6_row0_col0, #T_027c6_row0_col1, #T_027c6_row0_col2, #T_027c6_row0_col3 {\n",
       "  background-color: #f7fcf5;\n",
       "  color: #000000;\n",
       "}\n",
       "#T_027c6_row1_col0, #T_027c6_row1_col1 {\n",
       "  background-color: #88ce87;\n",
       "  color: #000000;\n",
       "}\n",
       "#T_027c6_row1_col2, #T_027c6_row2_col3 {\n",
       "  background-color: #000000;\n",
       "  color: #f1f1f1;\n",
       "  background-color: orange;\n",
       "}\n",
       "#T_027c6_row1_col3, #T_027c6_row2_col0, #T_027c6_row2_col1, #T_027c6_row2_col2 {\n",
       "  background-color: #00441b;\n",
       "  color: #f1f1f1;\n",
       "}\n",
       "</style>\n",
       "<table id=\"T_027c6\">\n",
       "  <thead>\n",
       "    <tr>\n",
       "      <th class=\"blank level0\" >&nbsp;</th>\n",
       "      <th id=\"T_027c6_level0_col0\" class=\"col_heading level0 col0\" >A</th>\n",
       "      <th id=\"T_027c6_level0_col1\" class=\"col_heading level0 col1\" >B</th>\n",
       "      <th id=\"T_027c6_level0_col2\" class=\"col_heading level0 col2\" >C</th>\n",
       "      <th id=\"T_027c6_level0_col3\" class=\"col_heading level0 col3\" >D</th>\n",
       "    </tr>\n",
       "  </thead>\n",
       "  <tbody>\n",
       "    <tr>\n",
       "      <th id=\"T_027c6_level0_row0\" class=\"row_heading level0 row0\" >0</th>\n",
       "      <td id=\"T_027c6_row0_col0\" class=\"data row0 col0\" >1.00</td>\n",
       "      <td id=\"T_027c6_row0_col1\" class=\"data row0 col1\" >2.00</td>\n",
       "      <td id=\"T_027c6_row0_col2\" class=\"data row0 col2\" >3.00</td>\n",
       "      <td id=\"T_027c6_row0_col3\" class=\"data row0 col3\" >4.00</td>\n",
       "    </tr>\n",
       "    <tr>\n",
       "      <th id=\"T_027c6_level0_row1\" class=\"row_heading level0 row1\" >1</th>\n",
       "      <td id=\"T_027c6_row1_col0\" class=\"data row1 col0\" >5.00</td>\n",
       "      <td id=\"T_027c6_row1_col1\" class=\"data row1 col1\" >6.00</td>\n",
       "      <td id=\"T_027c6_row1_col2\" class=\"data row1 col2\" >nan</td>\n",
       "      <td id=\"T_027c6_row1_col3\" class=\"data row1 col3\" >8.00</td>\n",
       "    </tr>\n",
       "    <tr>\n",
       "      <th id=\"T_027c6_level0_row2\" class=\"row_heading level0 row2\" >2</th>\n",
       "      <td id=\"T_027c6_row2_col0\" class=\"data row2 col0\" >10.00</td>\n",
       "      <td id=\"T_027c6_row2_col1\" class=\"data row2 col1\" >11.00</td>\n",
       "      <td id=\"T_027c6_row2_col2\" class=\"data row2 col2\" >12.00</td>\n",
       "      <td id=\"T_027c6_row2_col3\" class=\"data row2 col3\" >nan</td>\n",
       "    </tr>\n",
       "  </tbody>\n",
       "</table>\n"
      ],
      "text/plain": [
       "<pandas.io.formats.style.Styler at 0x11f0e74d0>"
      ]
     },
     "execution_count": 11,
     "metadata": {},
     "output_type": "execute_result"
    }
   ],
   "source": [
    "show_dataset(df)"
   ]
  },
  {
   "cell_type": "code",
   "execution_count": 12,
   "metadata": {},
   "outputs": [],
   "source": [
    "from sklearn.impute import SimpleImputer"
   ]
  },
  {
   "cell_type": "code",
   "execution_count": 13,
   "metadata": {},
   "outputs": [
    {
     "data": {
      "text/html": [
       "<style type=\"text/css\">\n",
       "#T_0c389_row0_col0, #T_0c389_row0_col1, #T_0c389_row0_col2, #T_0c389_row0_col3 {\n",
       "  background-color: #f7fcf5;\n",
       "  color: #000000;\n",
       "}\n",
       "#T_0c389_row1_col0, #T_0c389_row1_col1 {\n",
       "  background-color: #88ce87;\n",
       "  color: #000000;\n",
       "}\n",
       "#T_0c389_row1_col2, #T_0c389_row2_col3 {\n",
       "  background-color: #73c476;\n",
       "  color: #000000;\n",
       "}\n",
       "#T_0c389_row1_col3, #T_0c389_row2_col0, #T_0c389_row2_col1, #T_0c389_row2_col2 {\n",
       "  background-color: #00441b;\n",
       "  color: #f1f1f1;\n",
       "}\n",
       "</style>\n",
       "<table id=\"T_0c389\">\n",
       "  <thead>\n",
       "    <tr>\n",
       "      <th class=\"blank level0\" >&nbsp;</th>\n",
       "      <th id=\"T_0c389_level0_col0\" class=\"col_heading level0 col0\" >0</th>\n",
       "      <th id=\"T_0c389_level0_col1\" class=\"col_heading level0 col1\" >1</th>\n",
       "      <th id=\"T_0c389_level0_col2\" class=\"col_heading level0 col2\" >2</th>\n",
       "      <th id=\"T_0c389_level0_col3\" class=\"col_heading level0 col3\" >3</th>\n",
       "    </tr>\n",
       "  </thead>\n",
       "  <tbody>\n",
       "    <tr>\n",
       "      <th id=\"T_0c389_level0_row0\" class=\"row_heading level0 row0\" >0</th>\n",
       "      <td id=\"T_0c389_row0_col0\" class=\"data row0 col0\" >1.00</td>\n",
       "      <td id=\"T_0c389_row0_col1\" class=\"data row0 col1\" >2.00</td>\n",
       "      <td id=\"T_0c389_row0_col2\" class=\"data row0 col2\" >3.00</td>\n",
       "      <td id=\"T_0c389_row0_col3\" class=\"data row0 col3\" >4.00</td>\n",
       "    </tr>\n",
       "    <tr>\n",
       "      <th id=\"T_0c389_level0_row1\" class=\"row_heading level0 row1\" >1</th>\n",
       "      <td id=\"T_0c389_row1_col0\" class=\"data row1 col0\" >5.00</td>\n",
       "      <td id=\"T_0c389_row1_col1\" class=\"data row1 col1\" >6.00</td>\n",
       "      <td id=\"T_0c389_row1_col2\" class=\"data row1 col2\" >7.50</td>\n",
       "      <td id=\"T_0c389_row1_col3\" class=\"data row1 col3\" >8.00</td>\n",
       "    </tr>\n",
       "    <tr>\n",
       "      <th id=\"T_0c389_level0_row2\" class=\"row_heading level0 row2\" >2</th>\n",
       "      <td id=\"T_0c389_row2_col0\" class=\"data row2 col0\" >10.00</td>\n",
       "      <td id=\"T_0c389_row2_col1\" class=\"data row2 col1\" >11.00</td>\n",
       "      <td id=\"T_0c389_row2_col2\" class=\"data row2 col2\" >12.00</td>\n",
       "      <td id=\"T_0c389_row2_col3\" class=\"data row2 col3\" >6.00</td>\n",
       "    </tr>\n",
       "  </tbody>\n",
       "</table>\n"
      ],
      "text/plain": [
       "<pandas.io.formats.style.Styler at 0x11f0c5b10>"
      ]
     },
     "execution_count": 13,
     "metadata": {},
     "output_type": "execute_result"
    }
   ],
   "source": [
    "# Impute missing values using the column mean\n",
    "imputer = SimpleImputer(missing_values=np.nan, strategy='mean') # other popular choices: \"median\", \"most_frequent\"\n",
    "imputer.fit(df.values)\n",
    "imputed_data = imputer.transform(df.values)\n",
    "\n",
    "# show the dataset\n",
    "# note that the output of the SimpleImputer is a NumPy array\n",
    "# so we need to convert it back to a pandas DataFrame to use our helper function\n",
    "show_dataset(pd.DataFrame(imputed_data))"
   ]
  }
 ],
 "metadata": {
  "kernelspec": {
   "display_name": ".venv",
   "language": "python",
   "name": "python3"
  },
  "language_info": {
   "codemirror_mode": {
    "name": "ipython",
    "version": 3
   },
   "file_extension": ".py",
   "mimetype": "text/x-python",
   "name": "python",
   "nbconvert_exporter": "python",
   "pygments_lexer": "ipython3",
   "version": "3.11.5"
  }
 },
 "nbformat": 4,
 "nbformat_minor": 2
}
