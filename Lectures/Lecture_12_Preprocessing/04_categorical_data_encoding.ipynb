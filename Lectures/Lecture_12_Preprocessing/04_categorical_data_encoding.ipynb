{
 "cells": [
  {
   "cell_type": "markdown",
   "metadata": {},
   "source": [
    "## Dealing with non-numerical categorical data"
   ]
  },
  {
   "cell_type": "code",
   "execution_count": 1,
   "metadata": {},
   "outputs": [
    {
     "name": "stderr",
     "output_type": "stream",
     "text": [
      "/var/folders/qf/9lcflp0s1nq8l85_tw03dz180000gp/T/ipykernel_87640/3833989188.py:1: DeprecationWarning: \n",
      "Pyarrow will become a required dependency of pandas in the next major release of pandas (pandas 3.0),\n",
      "(to allow more performant data types, such as the Arrow string type, and better interoperability with other libraries)\n",
      "but was not found to be installed on your system.\n",
      "If this would cause problems for you,\n",
      "please provide us feedback at https://github.com/pandas-dev/pandas/issues/54466\n",
      "        \n",
      "  import pandas as pd\n"
     ]
    }
   ],
   "source": [
    "import pandas as pd\n",
    "import numpy as np\n",
    "\n",
    "# show a dataset with nice formatting\n",
    "def show_dataset(df):\n",
    "    return df.style.background_gradient(cmap='Greens').highlight_null('orange')"
   ]
  },
  {
   "cell_type": "code",
   "execution_count": 2,
   "metadata": {},
   "outputs": [
    {
     "data": {
      "text/html": [
       "<style type=\"text/css\">\n",
       "#T_55d1f_row0_col2 {\n",
       "  background-color: #f7fcf5;\n",
       "  color: #000000;\n",
       "}\n",
       "#T_55d1f_row1_col2 {\n",
       "  background-color: #3aa357;\n",
       "  color: #f1f1f1;\n",
       "}\n",
       "#T_55d1f_row2_col2 {\n",
       "  background-color: #00441b;\n",
       "  color: #f1f1f1;\n",
       "}\n",
       "</style>\n",
       "<table id=\"T_55d1f\">\n",
       "  <thead>\n",
       "    <tr>\n",
       "      <th class=\"blank level0\" >&nbsp;</th>\n",
       "      <th id=\"T_55d1f_level0_col0\" class=\"col_heading level0 col0\" >color</th>\n",
       "      <th id=\"T_55d1f_level0_col1\" class=\"col_heading level0 col1\" >size</th>\n",
       "      <th id=\"T_55d1f_level0_col2\" class=\"col_heading level0 col2\" >price</th>\n",
       "      <th id=\"T_55d1f_level0_col3\" class=\"col_heading level0 col3\" >class label</th>\n",
       "    </tr>\n",
       "  </thead>\n",
       "  <tbody>\n",
       "    <tr>\n",
       "      <th id=\"T_55d1f_level0_row0\" class=\"row_heading level0 row0\" >0</th>\n",
       "      <td id=\"T_55d1f_row0_col0\" class=\"data row0 col0\" >green</td>\n",
       "      <td id=\"T_55d1f_row0_col1\" class=\"data row0 col1\" >M</td>\n",
       "      <td id=\"T_55d1f_row0_col2\" class=\"data row0 col2\" >10.100000</td>\n",
       "      <td id=\"T_55d1f_row0_col3\" class=\"data row0 col3\" >class1</td>\n",
       "    </tr>\n",
       "    <tr>\n",
       "      <th id=\"T_55d1f_level0_row1\" class=\"row_heading level0 row1\" >1</th>\n",
       "      <td id=\"T_55d1f_row1_col0\" class=\"data row1 col0\" >red</td>\n",
       "      <td id=\"T_55d1f_row1_col1\" class=\"data row1 col1\" >L</td>\n",
       "      <td id=\"T_55d1f_row1_col2\" class=\"data row1 col2\" >13.500000</td>\n",
       "      <td id=\"T_55d1f_row1_col3\" class=\"data row1 col3\" >class2</td>\n",
       "    </tr>\n",
       "    <tr>\n",
       "      <th id=\"T_55d1f_level0_row2\" class=\"row_heading level0 row2\" >2</th>\n",
       "      <td id=\"T_55d1f_row2_col0\" class=\"data row2 col0\" >blue</td>\n",
       "      <td id=\"T_55d1f_row2_col1\" class=\"data row2 col1\" >XL</td>\n",
       "      <td id=\"T_55d1f_row2_col2\" class=\"data row2 col2\" >15.300000</td>\n",
       "      <td id=\"T_55d1f_row2_col3\" class=\"data row2 col3\" >class1</td>\n",
       "    </tr>\n",
       "  </tbody>\n",
       "</table>\n"
      ],
      "text/plain": [
       "<pandas.io.formats.style.Styler at 0x12d93b690>"
      ]
     },
     "execution_count": 2,
     "metadata": {},
     "output_type": "execute_result"
    }
   ],
   "source": [
    "df = pd.DataFrame([\n",
    "    ['green', 'M', 10.1, 'class1'],\n",
    "    ['red', 'L', 13.5, 'class2'],\n",
    "    ['blue', 'XL', 15.3, 'class1'],\n",
    "])\n",
    "\n",
    "df.columns = ['color', 'size', 'price', 'class label']\n",
    "show_dataset(df)"
   ]
  },
  {
   "cell_type": "markdown",
   "metadata": {},
   "source": [
    "## Encoding ordinal data"
   ]
  },
  {
   "cell_type": "code",
   "execution_count": 3,
   "metadata": {},
   "outputs": [
    {
     "data": {
      "text/html": [
       "<style type=\"text/css\">\n",
       "#T_5a5d9_row0_col1, #T_5a5d9_row0_col2 {\n",
       "  background-color: #f7fcf5;\n",
       "  color: #000000;\n",
       "}\n",
       "#T_5a5d9_row1_col1 {\n",
       "  background-color: #73c476;\n",
       "  color: #000000;\n",
       "}\n",
       "#T_5a5d9_row1_col2 {\n",
       "  background-color: #3aa357;\n",
       "  color: #f1f1f1;\n",
       "}\n",
       "#T_5a5d9_row2_col1, #T_5a5d9_row2_col2 {\n",
       "  background-color: #00441b;\n",
       "  color: #f1f1f1;\n",
       "}\n",
       "</style>\n",
       "<table id=\"T_5a5d9\">\n",
       "  <thead>\n",
       "    <tr>\n",
       "      <th class=\"blank level0\" >&nbsp;</th>\n",
       "      <th id=\"T_5a5d9_level0_col0\" class=\"col_heading level0 col0\" >color</th>\n",
       "      <th id=\"T_5a5d9_level0_col1\" class=\"col_heading level0 col1\" >size</th>\n",
       "      <th id=\"T_5a5d9_level0_col2\" class=\"col_heading level0 col2\" >price</th>\n",
       "      <th id=\"T_5a5d9_level0_col3\" class=\"col_heading level0 col3\" >class label</th>\n",
       "    </tr>\n",
       "  </thead>\n",
       "  <tbody>\n",
       "    <tr>\n",
       "      <th id=\"T_5a5d9_level0_row0\" class=\"row_heading level0 row0\" >0</th>\n",
       "      <td id=\"T_5a5d9_row0_col0\" class=\"data row0 col0\" >green</td>\n",
       "      <td id=\"T_5a5d9_row0_col1\" class=\"data row0 col1\" >1</td>\n",
       "      <td id=\"T_5a5d9_row0_col2\" class=\"data row0 col2\" >10.100000</td>\n",
       "      <td id=\"T_5a5d9_row0_col3\" class=\"data row0 col3\" >class1</td>\n",
       "    </tr>\n",
       "    <tr>\n",
       "      <th id=\"T_5a5d9_level0_row1\" class=\"row_heading level0 row1\" >1</th>\n",
       "      <td id=\"T_5a5d9_row1_col0\" class=\"data row1 col0\" >red</td>\n",
       "      <td id=\"T_5a5d9_row1_col1\" class=\"data row1 col1\" >2</td>\n",
       "      <td id=\"T_5a5d9_row1_col2\" class=\"data row1 col2\" >13.500000</td>\n",
       "      <td id=\"T_5a5d9_row1_col3\" class=\"data row1 col3\" >class2</td>\n",
       "    </tr>\n",
       "    <tr>\n",
       "      <th id=\"T_5a5d9_level0_row2\" class=\"row_heading level0 row2\" >2</th>\n",
       "      <td id=\"T_5a5d9_row2_col0\" class=\"data row2 col0\" >blue</td>\n",
       "      <td id=\"T_5a5d9_row2_col1\" class=\"data row2 col1\" >3</td>\n",
       "      <td id=\"T_5a5d9_row2_col2\" class=\"data row2 col2\" >15.300000</td>\n",
       "      <td id=\"T_5a5d9_row2_col3\" class=\"data row2 col3\" >class1</td>\n",
       "    </tr>\n",
       "  </tbody>\n",
       "</table>\n"
      ],
      "text/plain": [
       "<pandas.io.formats.style.Styler at 0x13de7aa90>"
      ]
     },
     "execution_count": 3,
     "metadata": {},
     "output_type": "execute_result"
    }
   ],
   "source": [
    "size_mapping = {'XL': 3, 'L': 2, 'M': 1}\n",
    "df['size'] = df['size'].map(size_mapping)\n",
    "show_dataset(df)"
   ]
  },
  {
   "cell_type": "code",
   "execution_count": 4,
   "metadata": {},
   "outputs": [],
   "source": [
    "# to reverse the mapping later use:\n",
    "inverse_size_mapping = {v: k for k, v in size_mapping.items()}\n",
    "df2 = df.copy()\n",
    "df2['size'] = df2['size'].map(inverse_size_mapping)"
   ]
  },
  {
   "cell_type": "code",
   "execution_count": 5,
   "metadata": {},
   "outputs": [
    {
     "data": {
      "text/html": [
       "<style type=\"text/css\">\n",
       "#T_15418_row0_col1, #T_15418_row0_col3, #T_15418_row0_col4, #T_15418_row1_col4 {\n",
       "  background-color: #f7fcf5;\n",
       "  color: #000000;\n",
       "}\n",
       "#T_15418_row1_col1 {\n",
       "  background-color: #3aa357;\n",
       "  color: #f1f1f1;\n",
       "}\n",
       "#T_15418_row1_col3, #T_15418_row2_col1, #T_15418_row2_col3, #T_15418_row2_col4 {\n",
       "  background-color: #00441b;\n",
       "  color: #f1f1f1;\n",
       "}\n",
       "</style>\n",
       "<table id=\"T_15418\">\n",
       "  <thead>\n",
       "    <tr>\n",
       "      <th class=\"blank level0\" >&nbsp;</th>\n",
       "      <th id=\"T_15418_level0_col0\" class=\"col_heading level0 col0\" >color</th>\n",
       "      <th id=\"T_15418_level0_col1\" class=\"col_heading level0 col1\" >price</th>\n",
       "      <th id=\"T_15418_level0_col2\" class=\"col_heading level0 col2\" >class label</th>\n",
       "      <th id=\"T_15418_level0_col3\" class=\"col_heading level0 col3\" >x > M</th>\n",
       "      <th id=\"T_15418_level0_col4\" class=\"col_heading level0 col4\" >x > L</th>\n",
       "    </tr>\n",
       "  </thead>\n",
       "  <tbody>\n",
       "    <tr>\n",
       "      <th id=\"T_15418_level0_row0\" class=\"row_heading level0 row0\" >0</th>\n",
       "      <td id=\"T_15418_row0_col0\" class=\"data row0 col0\" >green</td>\n",
       "      <td id=\"T_15418_row0_col1\" class=\"data row0 col1\" >10.100000</td>\n",
       "      <td id=\"T_15418_row0_col2\" class=\"data row0 col2\" >class1</td>\n",
       "      <td id=\"T_15418_row0_col3\" class=\"data row0 col3\" >0</td>\n",
       "      <td id=\"T_15418_row0_col4\" class=\"data row0 col4\" >0</td>\n",
       "    </tr>\n",
       "    <tr>\n",
       "      <th id=\"T_15418_level0_row1\" class=\"row_heading level0 row1\" >1</th>\n",
       "      <td id=\"T_15418_row1_col0\" class=\"data row1 col0\" >red</td>\n",
       "      <td id=\"T_15418_row1_col1\" class=\"data row1 col1\" >13.500000</td>\n",
       "      <td id=\"T_15418_row1_col2\" class=\"data row1 col2\" >class2</td>\n",
       "      <td id=\"T_15418_row1_col3\" class=\"data row1 col3\" >1</td>\n",
       "      <td id=\"T_15418_row1_col4\" class=\"data row1 col4\" >0</td>\n",
       "    </tr>\n",
       "    <tr>\n",
       "      <th id=\"T_15418_level0_row2\" class=\"row_heading level0 row2\" >2</th>\n",
       "      <td id=\"T_15418_row2_col0\" class=\"data row2 col0\" >blue</td>\n",
       "      <td id=\"T_15418_row2_col1\" class=\"data row2 col1\" >15.300000</td>\n",
       "      <td id=\"T_15418_row2_col2\" class=\"data row2 col2\" >class1</td>\n",
       "      <td id=\"T_15418_row2_col3\" class=\"data row2 col3\" >1</td>\n",
       "      <td id=\"T_15418_row2_col4\" class=\"data row2 col4\" >1</td>\n",
       "    </tr>\n",
       "  </tbody>\n",
       "</table>\n"
      ],
      "text/plain": [
       "<pandas.io.formats.style.Styler at 0x128c14fd0>"
      ]
     },
     "execution_count": 5,
     "metadata": {},
     "output_type": "execute_result"
    }
   ],
   "source": [
    "# Use a threshold approach for the size feature\n",
    "df2['x > M'] = df2['size'].map(lambda x: 0 if x == 'M' else 1)\n",
    "df2['x > L'] = df2['size'].map(lambda x: 1 if x == 'XL' else 0)\n",
    "df2.drop('size', axis=1, inplace=True)\n",
    "\n",
    "show_dataset(df2)"
   ]
  },
  {
   "cell_type": "markdown",
   "metadata": {},
   "source": [
    "## Encoding class labels"
   ]
  },
  {
   "cell_type": "code",
   "execution_count": 6,
   "metadata": {},
   "outputs": [
    {
     "data": {
      "text/html": [
       "<style type=\"text/css\">\n",
       "#T_c2d63_row0_col1, #T_c2d63_row0_col2, #T_c2d63_row0_col3, #T_c2d63_row2_col3 {\n",
       "  background-color: #f7fcf5;\n",
       "  color: #000000;\n",
       "}\n",
       "#T_c2d63_row1_col1 {\n",
       "  background-color: #73c476;\n",
       "  color: #000000;\n",
       "}\n",
       "#T_c2d63_row1_col2 {\n",
       "  background-color: #3aa357;\n",
       "  color: #f1f1f1;\n",
       "}\n",
       "#T_c2d63_row1_col3, #T_c2d63_row2_col1, #T_c2d63_row2_col2 {\n",
       "  background-color: #00441b;\n",
       "  color: #f1f1f1;\n",
       "}\n",
       "</style>\n",
       "<table id=\"T_c2d63\">\n",
       "  <thead>\n",
       "    <tr>\n",
       "      <th class=\"blank level0\" >&nbsp;</th>\n",
       "      <th id=\"T_c2d63_level0_col0\" class=\"col_heading level0 col0\" >color</th>\n",
       "      <th id=\"T_c2d63_level0_col1\" class=\"col_heading level0 col1\" >size</th>\n",
       "      <th id=\"T_c2d63_level0_col2\" class=\"col_heading level0 col2\" >price</th>\n",
       "      <th id=\"T_c2d63_level0_col3\" class=\"col_heading level0 col3\" >class label</th>\n",
       "    </tr>\n",
       "  </thead>\n",
       "  <tbody>\n",
       "    <tr>\n",
       "      <th id=\"T_c2d63_level0_row0\" class=\"row_heading level0 row0\" >0</th>\n",
       "      <td id=\"T_c2d63_row0_col0\" class=\"data row0 col0\" >green</td>\n",
       "      <td id=\"T_c2d63_row0_col1\" class=\"data row0 col1\" >1</td>\n",
       "      <td id=\"T_c2d63_row0_col2\" class=\"data row0 col2\" >10.100000</td>\n",
       "      <td id=\"T_c2d63_row0_col3\" class=\"data row0 col3\" >0</td>\n",
       "    </tr>\n",
       "    <tr>\n",
       "      <th id=\"T_c2d63_level0_row1\" class=\"row_heading level0 row1\" >1</th>\n",
       "      <td id=\"T_c2d63_row1_col0\" class=\"data row1 col0\" >red</td>\n",
       "      <td id=\"T_c2d63_row1_col1\" class=\"data row1 col1\" >2</td>\n",
       "      <td id=\"T_c2d63_row1_col2\" class=\"data row1 col2\" >13.500000</td>\n",
       "      <td id=\"T_c2d63_row1_col3\" class=\"data row1 col3\" >1</td>\n",
       "    </tr>\n",
       "    <tr>\n",
       "      <th id=\"T_c2d63_level0_row2\" class=\"row_heading level0 row2\" >2</th>\n",
       "      <td id=\"T_c2d63_row2_col0\" class=\"data row2 col0\" >blue</td>\n",
       "      <td id=\"T_c2d63_row2_col1\" class=\"data row2 col1\" >3</td>\n",
       "      <td id=\"T_c2d63_row2_col2\" class=\"data row2 col2\" >15.300000</td>\n",
       "      <td id=\"T_c2d63_row2_col3\" class=\"data row2 col3\" >0</td>\n",
       "    </tr>\n",
       "  </tbody>\n",
       "</table>\n"
      ],
      "text/plain": [
       "<pandas.io.formats.style.Styler at 0x128c18dd0>"
      ]
     },
     "execution_count": 6,
     "metadata": {},
     "output_type": "execute_result"
    }
   ],
   "source": [
    "class_mapping = {label: i for i, label in enumerate(np.unique(df['class label']))}\n",
    "df['class label'] = df['class label'].map(class_mapping)\n",
    "show_dataset(df)"
   ]
  },
  {
   "cell_type": "code",
   "execution_count": 7,
   "metadata": {},
   "outputs": [
    {
     "data": {
      "text/html": [
       "<style type=\"text/css\">\n",
       "#T_53254_row0_col1, #T_53254_row0_col2, #T_53254_row0_col3, #T_53254_row2_col3 {\n",
       "  background-color: #f7fcf5;\n",
       "  color: #000000;\n",
       "}\n",
       "#T_53254_row1_col1 {\n",
       "  background-color: #73c476;\n",
       "  color: #000000;\n",
       "}\n",
       "#T_53254_row1_col2 {\n",
       "  background-color: #3aa357;\n",
       "  color: #f1f1f1;\n",
       "}\n",
       "#T_53254_row1_col3, #T_53254_row2_col1, #T_53254_row2_col2 {\n",
       "  background-color: #00441b;\n",
       "  color: #f1f1f1;\n",
       "}\n",
       "</style>\n",
       "<table id=\"T_53254\">\n",
       "  <thead>\n",
       "    <tr>\n",
       "      <th class=\"blank level0\" >&nbsp;</th>\n",
       "      <th id=\"T_53254_level0_col0\" class=\"col_heading level0 col0\" >color</th>\n",
       "      <th id=\"T_53254_level0_col1\" class=\"col_heading level0 col1\" >size</th>\n",
       "      <th id=\"T_53254_level0_col2\" class=\"col_heading level0 col2\" >price</th>\n",
       "      <th id=\"T_53254_level0_col3\" class=\"col_heading level0 col3\" >class label</th>\n",
       "    </tr>\n",
       "  </thead>\n",
       "  <tbody>\n",
       "    <tr>\n",
       "      <th id=\"T_53254_level0_row0\" class=\"row_heading level0 row0\" >0</th>\n",
       "      <td id=\"T_53254_row0_col0\" class=\"data row0 col0\" >green</td>\n",
       "      <td id=\"T_53254_row0_col1\" class=\"data row0 col1\" >1</td>\n",
       "      <td id=\"T_53254_row0_col2\" class=\"data row0 col2\" >10.100000</td>\n",
       "      <td id=\"T_53254_row0_col3\" class=\"data row0 col3\" >0</td>\n",
       "    </tr>\n",
       "    <tr>\n",
       "      <th id=\"T_53254_level0_row1\" class=\"row_heading level0 row1\" >1</th>\n",
       "      <td id=\"T_53254_row1_col0\" class=\"data row1 col0\" >red</td>\n",
       "      <td id=\"T_53254_row1_col1\" class=\"data row1 col1\" >2</td>\n",
       "      <td id=\"T_53254_row1_col2\" class=\"data row1 col2\" >13.500000</td>\n",
       "      <td id=\"T_53254_row1_col3\" class=\"data row1 col3\" >1</td>\n",
       "    </tr>\n",
       "    <tr>\n",
       "      <th id=\"T_53254_level0_row2\" class=\"row_heading level0 row2\" >2</th>\n",
       "      <td id=\"T_53254_row2_col0\" class=\"data row2 col0\" >blue</td>\n",
       "      <td id=\"T_53254_row2_col1\" class=\"data row2 col1\" >3</td>\n",
       "      <td id=\"T_53254_row2_col2\" class=\"data row2 col2\" >15.300000</td>\n",
       "      <td id=\"T_53254_row2_col3\" class=\"data row2 col3\" >0</td>\n",
       "    </tr>\n",
       "  </tbody>\n",
       "</table>\n"
      ],
      "text/plain": [
       "<pandas.io.formats.style.Styler at 0x14c9ac6d0>"
      ]
     },
     "execution_count": 7,
     "metadata": {},
     "output_type": "execute_result"
    }
   ],
   "source": [
    "# Alternative to the above using sklearn's LabelEncoder\n",
    "from sklearn.preprocessing import LabelEncoder\n",
    "\n",
    "class_le = LabelEncoder()\n",
    "y = class_le.fit_transform(df['class label']) # \".fit_transform\" is short for \".fit\" and then \".transform\"\n",
    "\n",
    "# need to convert back to data frame because the encoder returns a numpy array\n",
    "df3 = df.copy()\n",
    "df3['class label'] = pd.DataFrame(y)\n",
    "show_dataset(df3)\n"
   ]
  },
  {
   "cell_type": "markdown",
   "metadata": {},
   "source": [
    "## One-hot encoding for nominal data using pandas"
   ]
  },
  {
   "cell_type": "code",
   "execution_count": 8,
   "metadata": {},
   "outputs": [
    {
     "data": {
      "text/html": [
       "<style type=\"text/css\">\n",
       "#T_736cb_row0_col0, #T_736cb_row0_col1, #T_736cb_row0_col2, #T_736cb_row2_col2 {\n",
       "  background-color: #f7fcf5;\n",
       "  color: #000000;\n",
       "}\n",
       "#T_736cb_row1_col0 {\n",
       "  background-color: #73c476;\n",
       "  color: #000000;\n",
       "}\n",
       "#T_736cb_row1_col1 {\n",
       "  background-color: #3aa357;\n",
       "  color: #f1f1f1;\n",
       "}\n",
       "#T_736cb_row1_col2, #T_736cb_row2_col0, #T_736cb_row2_col1 {\n",
       "  background-color: #00441b;\n",
       "  color: #f1f1f1;\n",
       "}\n",
       "</style>\n",
       "<table id=\"T_736cb\">\n",
       "  <thead>\n",
       "    <tr>\n",
       "      <th class=\"blank level0\" >&nbsp;</th>\n",
       "      <th id=\"T_736cb_level0_col0\" class=\"col_heading level0 col0\" >size</th>\n",
       "      <th id=\"T_736cb_level0_col1\" class=\"col_heading level0 col1\" >price</th>\n",
       "      <th id=\"T_736cb_level0_col2\" class=\"col_heading level0 col2\" >class label</th>\n",
       "      <th id=\"T_736cb_level0_col3\" class=\"col_heading level0 col3\" >color_green</th>\n",
       "      <th id=\"T_736cb_level0_col4\" class=\"col_heading level0 col4\" >color_red</th>\n",
       "    </tr>\n",
       "  </thead>\n",
       "  <tbody>\n",
       "    <tr>\n",
       "      <th id=\"T_736cb_level0_row0\" class=\"row_heading level0 row0\" >0</th>\n",
       "      <td id=\"T_736cb_row0_col0\" class=\"data row0 col0\" >1</td>\n",
       "      <td id=\"T_736cb_row0_col1\" class=\"data row0 col1\" >10.100000</td>\n",
       "      <td id=\"T_736cb_row0_col2\" class=\"data row0 col2\" >0</td>\n",
       "      <td id=\"T_736cb_row0_col3\" class=\"data row0 col3\" >True</td>\n",
       "      <td id=\"T_736cb_row0_col4\" class=\"data row0 col4\" >False</td>\n",
       "    </tr>\n",
       "    <tr>\n",
       "      <th id=\"T_736cb_level0_row1\" class=\"row_heading level0 row1\" >1</th>\n",
       "      <td id=\"T_736cb_row1_col0\" class=\"data row1 col0\" >2</td>\n",
       "      <td id=\"T_736cb_row1_col1\" class=\"data row1 col1\" >13.500000</td>\n",
       "      <td id=\"T_736cb_row1_col2\" class=\"data row1 col2\" >1</td>\n",
       "      <td id=\"T_736cb_row1_col3\" class=\"data row1 col3\" >False</td>\n",
       "      <td id=\"T_736cb_row1_col4\" class=\"data row1 col4\" >True</td>\n",
       "    </tr>\n",
       "    <tr>\n",
       "      <th id=\"T_736cb_level0_row2\" class=\"row_heading level0 row2\" >2</th>\n",
       "      <td id=\"T_736cb_row2_col0\" class=\"data row2 col0\" >3</td>\n",
       "      <td id=\"T_736cb_row2_col1\" class=\"data row2 col1\" >15.300000</td>\n",
       "      <td id=\"T_736cb_row2_col2\" class=\"data row2 col2\" >0</td>\n",
       "      <td id=\"T_736cb_row2_col3\" class=\"data row2 col3\" >False</td>\n",
       "      <td id=\"T_736cb_row2_col4\" class=\"data row2 col4\" >False</td>\n",
       "    </tr>\n",
       "  </tbody>\n",
       "</table>\n"
      ],
      "text/plain": [
       "<pandas.io.formats.style.Styler at 0x13dbf2b10>"
      ]
     },
     "execution_count": 8,
     "metadata": {},
     "output_type": "execute_result"
    }
   ],
   "source": [
    "# in pandas the concept of one-host encoding is called \"get_dummies\" (dummy variables are the binary digit variables)\n",
    "df_dum = pd.get_dummies(df, drop_first=True) # drop one of the three new features to avoid multicollinearity\n",
    "show_dataset(df_dum)"
   ]
  },
  {
   "cell_type": "code",
   "execution_count": 9,
   "metadata": {},
   "outputs": [
    {
     "data": {
      "text/html": [
       "<style type=\"text/css\">\n",
       "#T_c871b_row0_col0, #T_c871b_row0_col1, #T_c871b_row0_col2, #T_c871b_row0_col4, #T_c871b_row1_col3, #T_c871b_row2_col2, #T_c871b_row2_col3, #T_c871b_row2_col4 {\n",
       "  background-color: #f7fcf5;\n",
       "  color: #000000;\n",
       "}\n",
       "#T_c871b_row0_col3, #T_c871b_row1_col2, #T_c871b_row1_col4, #T_c871b_row2_col0, #T_c871b_row2_col1 {\n",
       "  background-color: #00441b;\n",
       "  color: #f1f1f1;\n",
       "}\n",
       "#T_c871b_row1_col0 {\n",
       "  background-color: #73c476;\n",
       "  color: #000000;\n",
       "}\n",
       "#T_c871b_row1_col1 {\n",
       "  background-color: #3aa357;\n",
       "  color: #f1f1f1;\n",
       "}\n",
       "</style>\n",
       "<table id=\"T_c871b\">\n",
       "  <thead>\n",
       "    <tr>\n",
       "      <th class=\"blank level0\" >&nbsp;</th>\n",
       "      <th id=\"T_c871b_level0_col0\" class=\"col_heading level0 col0\" >size</th>\n",
       "      <th id=\"T_c871b_level0_col1\" class=\"col_heading level0 col1\" >price</th>\n",
       "      <th id=\"T_c871b_level0_col2\" class=\"col_heading level0 col2\" >class label</th>\n",
       "      <th id=\"T_c871b_level0_col3\" class=\"col_heading level0 col3\" >color_green</th>\n",
       "      <th id=\"T_c871b_level0_col4\" class=\"col_heading level0 col4\" >color_red</th>\n",
       "    </tr>\n",
       "  </thead>\n",
       "  <tbody>\n",
       "    <tr>\n",
       "      <th id=\"T_c871b_level0_row0\" class=\"row_heading level0 row0\" >0</th>\n",
       "      <td id=\"T_c871b_row0_col0\" class=\"data row0 col0\" >1</td>\n",
       "      <td id=\"T_c871b_row0_col1\" class=\"data row0 col1\" >10.100000</td>\n",
       "      <td id=\"T_c871b_row0_col2\" class=\"data row0 col2\" >0</td>\n",
       "      <td id=\"T_c871b_row0_col3\" class=\"data row0 col3\" >1.000000</td>\n",
       "      <td id=\"T_c871b_row0_col4\" class=\"data row0 col4\" >0.000000</td>\n",
       "    </tr>\n",
       "    <tr>\n",
       "      <th id=\"T_c871b_level0_row1\" class=\"row_heading level0 row1\" >1</th>\n",
       "      <td id=\"T_c871b_row1_col0\" class=\"data row1 col0\" >2</td>\n",
       "      <td id=\"T_c871b_row1_col1\" class=\"data row1 col1\" >13.500000</td>\n",
       "      <td id=\"T_c871b_row1_col2\" class=\"data row1 col2\" >1</td>\n",
       "      <td id=\"T_c871b_row1_col3\" class=\"data row1 col3\" >0.000000</td>\n",
       "      <td id=\"T_c871b_row1_col4\" class=\"data row1 col4\" >1.000000</td>\n",
       "    </tr>\n",
       "    <tr>\n",
       "      <th id=\"T_c871b_level0_row2\" class=\"row_heading level0 row2\" >2</th>\n",
       "      <td id=\"T_c871b_row2_col0\" class=\"data row2 col0\" >3</td>\n",
       "      <td id=\"T_c871b_row2_col1\" class=\"data row2 col1\" >15.300000</td>\n",
       "      <td id=\"T_c871b_row2_col2\" class=\"data row2 col2\" >0</td>\n",
       "      <td id=\"T_c871b_row2_col3\" class=\"data row2 col3\" >0.000000</td>\n",
       "      <td id=\"T_c871b_row2_col4\" class=\"data row2 col4\" >0.000000</td>\n",
       "    </tr>\n",
       "  </tbody>\n",
       "</table>\n"
      ],
      "text/plain": [
       "<pandas.io.formats.style.Styler at 0x13fc31790>"
      ]
     },
     "execution_count": 9,
     "metadata": {},
     "output_type": "execute_result"
    }
   ],
   "source": [
    "# use one-hot encoding using sklearn\n",
    "from sklearn.preprocessing import OneHotEncoder\n",
    "\n",
    "# sparse_output=False to return a regular numpy array instead of a sparse matrix\n",
    "# the alternative is to use sparse_output=True and then convert to a dense array using \".toarray()\" on the result\n",
    "# drop='first' to drop one of the three new features to avoid multicollinearity\n",
    "color_ohe = OneHotEncoder(drop='first', sparse_output=False)\n",
    "out = color_ohe.fit_transform(df[['color']]) # expects a 2D array\n",
    "# turn into data frame\n",
    "df_ohe = pd.DataFrame(out, columns=color_ohe.get_feature_names_out())\n",
    "\n",
    "# combine back into the original data frame\n",
    "df_ohe = pd.concat([df.drop(['color'], axis=1), df_ohe], axis=1)\n",
    "show_dataset(df_ohe)"
   ]
  },
  {
   "cell_type": "code",
   "execution_count": 10,
   "metadata": {},
   "outputs": [
    {
     "data": {
      "text/html": [
       "<style type=\"text/css\">\n",
       "#T_0858a_row0_col0, #T_0858a_row1_col1, #T_0858a_row1_col4, #T_0858a_row2_col2, #T_0858a_row2_col3 {\n",
       "  background-color: #00441b;\n",
       "  color: #f1f1f1;\n",
       "}\n",
       "#T_0858a_row0_col1, #T_0858a_row0_col2, #T_0858a_row0_col3, #T_0858a_row0_col4, #T_0858a_row1_col0, #T_0858a_row2_col0, #T_0858a_row2_col1, #T_0858a_row2_col4 {\n",
       "  background-color: #f7fcf5;\n",
       "  color: #000000;\n",
       "}\n",
       "#T_0858a_row1_col2 {\n",
       "  background-color: #73c476;\n",
       "  color: #000000;\n",
       "}\n",
       "#T_0858a_row1_col3 {\n",
       "  background-color: #3aa357;\n",
       "  color: #f1f1f1;\n",
       "}\n",
       "</style>\n",
       "<table id=\"T_0858a\">\n",
       "  <thead>\n",
       "    <tr>\n",
       "      <th class=\"blank level0\" >&nbsp;</th>\n",
       "      <th id=\"T_0858a_level0_col0\" class=\"col_heading level0 col0\" >color_green</th>\n",
       "      <th id=\"T_0858a_level0_col1\" class=\"col_heading level0 col1\" >color_red</th>\n",
       "      <th id=\"T_0858a_level0_col2\" class=\"col_heading level0 col2\" >size</th>\n",
       "      <th id=\"T_0858a_level0_col3\" class=\"col_heading level0 col3\" >price</th>\n",
       "      <th id=\"T_0858a_level0_col4\" class=\"col_heading level0 col4\" >class label</th>\n",
       "    </tr>\n",
       "  </thead>\n",
       "  <tbody>\n",
       "    <tr>\n",
       "      <th id=\"T_0858a_level0_row0\" class=\"row_heading level0 row0\" >0</th>\n",
       "      <td id=\"T_0858a_row0_col0\" class=\"data row0 col0\" >1.000000</td>\n",
       "      <td id=\"T_0858a_row0_col1\" class=\"data row0 col1\" >0.000000</td>\n",
       "      <td id=\"T_0858a_row0_col2\" class=\"data row0 col2\" >1.000000</td>\n",
       "      <td id=\"T_0858a_row0_col3\" class=\"data row0 col3\" >10.100000</td>\n",
       "      <td id=\"T_0858a_row0_col4\" class=\"data row0 col4\" >0.000000</td>\n",
       "    </tr>\n",
       "    <tr>\n",
       "      <th id=\"T_0858a_level0_row1\" class=\"row_heading level0 row1\" >1</th>\n",
       "      <td id=\"T_0858a_row1_col0\" class=\"data row1 col0\" >0.000000</td>\n",
       "      <td id=\"T_0858a_row1_col1\" class=\"data row1 col1\" >1.000000</td>\n",
       "      <td id=\"T_0858a_row1_col2\" class=\"data row1 col2\" >2.000000</td>\n",
       "      <td id=\"T_0858a_row1_col3\" class=\"data row1 col3\" >13.500000</td>\n",
       "      <td id=\"T_0858a_row1_col4\" class=\"data row1 col4\" >1.000000</td>\n",
       "    </tr>\n",
       "    <tr>\n",
       "      <th id=\"T_0858a_level0_row2\" class=\"row_heading level0 row2\" >2</th>\n",
       "      <td id=\"T_0858a_row2_col0\" class=\"data row2 col0\" >0.000000</td>\n",
       "      <td id=\"T_0858a_row2_col1\" class=\"data row2 col1\" >0.000000</td>\n",
       "      <td id=\"T_0858a_row2_col2\" class=\"data row2 col2\" >3.000000</td>\n",
       "      <td id=\"T_0858a_row2_col3\" class=\"data row2 col3\" >15.300000</td>\n",
       "      <td id=\"T_0858a_row2_col4\" class=\"data row2 col4\" >0.000000</td>\n",
       "    </tr>\n",
       "  </tbody>\n",
       "</table>\n"
      ],
      "text/plain": [
       "<pandas.io.formats.style.Styler at 0x28262b910>"
      ]
     },
     "execution_count": 10,
     "metadata": {},
     "output_type": "execute_result"
    }
   ],
   "source": [
    "# use one-hot encoding using sklearn's ColumnTransformer (alternative to the above)\n",
    "from sklearn.compose import ColumnTransformer\n",
    "from sklearn.preprocessing import OneHotEncoder\n",
    "\n",
    "ct = ColumnTransformer(\n",
    "    [\n",
    "        ('onehot', OneHotEncoder(drop='first'), ['color']),\n",
    "        # here we could add more transformers for other columns\n",
    "    ],\n",
    "    remainder='passthrough', # do noting to the untransformed columns\n",
    "    verbose_feature_names_out=False,\n",
    ")\n",
    "\n",
    "out = ct.fit_transform(df)\n",
    "\n",
    "# turn into data frame\n",
    "df_ohe = pd.DataFrame(out, columns=ct.get_feature_names_out())\n",
    "show_dataset(df_ohe)"
   ]
  }
 ],
 "metadata": {
  "kernelspec": {
   "display_name": ".venv",
   "language": "python",
   "name": "python3"
  },
  "language_info": {
   "codemirror_mode": {
    "name": "ipython",
    "version": 3
   },
   "file_extension": ".py",
   "mimetype": "text/x-python",
   "name": "python",
   "nbconvert_exporter": "python",
   "pygments_lexer": "ipython3",
   "version": "3.11.5"
  }
 },
 "nbformat": 4,
 "nbformat_minor": 2
}
