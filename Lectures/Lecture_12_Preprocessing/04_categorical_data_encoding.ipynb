{
 "cells": [
  {
   "cell_type": "markdown",
   "metadata": {},
   "source": [
    "## Dealing with non-numerical categorical data"
   ]
  },
  {
   "cell_type": "code",
   "execution_count": 3,
   "metadata": {},
   "outputs": [
    {
     "name": "stderr",
     "output_type": "stream",
     "text": [
      "/var/folders/qf/9lcflp0s1nq8l85_tw03dz180000gp/T/ipykernel_33909/3833989188.py:1: DeprecationWarning: \n",
      "Pyarrow will become a required dependency of pandas in the next major release of pandas (pandas 3.0),\n",
      "(to allow more performant data types, such as the Arrow string type, and better interoperability with other libraries)\n",
      "but was not found to be installed on your system.\n",
      "If this would cause problems for you,\n",
      "please provide us feedback at https://github.com/pandas-dev/pandas/issues/54466\n",
      "        \n",
      "  import pandas as pd\n"
     ]
    }
   ],
   "source": [
    "import pandas as pd\n",
    "import numpy as np\n",
    "\n",
    "# show a dataset with nice formatting\n",
    "def show_dataset(df):\n",
    "    return df.style.background_gradient(cmap='Greens').highlight_null('orange')"
   ]
  },
  {
   "cell_type": "code",
   "execution_count": 4,
   "metadata": {},
   "outputs": [
    {
     "data": {
      "text/html": [
       "<style type=\"text/css\">\n",
       "#T_b6207_row0_col2 {\n",
       "  background-color: #f7fcf5;\n",
       "  color: #000000;\n",
       "}\n",
       "#T_b6207_row1_col2 {\n",
       "  background-color: #3aa357;\n",
       "  color: #f1f1f1;\n",
       "}\n",
       "#T_b6207_row2_col2 {\n",
       "  background-color: #00441b;\n",
       "  color: #f1f1f1;\n",
       "}\n",
       "</style>\n",
       "<table id=\"T_b6207\">\n",
       "  <thead>\n",
       "    <tr>\n",
       "      <th class=\"blank level0\" >&nbsp;</th>\n",
       "      <th id=\"T_b6207_level0_col0\" class=\"col_heading level0 col0\" >color</th>\n",
       "      <th id=\"T_b6207_level0_col1\" class=\"col_heading level0 col1\" >size</th>\n",
       "      <th id=\"T_b6207_level0_col2\" class=\"col_heading level0 col2\" >price</th>\n",
       "      <th id=\"T_b6207_level0_col3\" class=\"col_heading level0 col3\" >class label</th>\n",
       "    </tr>\n",
       "  </thead>\n",
       "  <tbody>\n",
       "    <tr>\n",
       "      <th id=\"T_b6207_level0_row0\" class=\"row_heading level0 row0\" >0</th>\n",
       "      <td id=\"T_b6207_row0_col0\" class=\"data row0 col0\" >green</td>\n",
       "      <td id=\"T_b6207_row0_col1\" class=\"data row0 col1\" >M</td>\n",
       "      <td id=\"T_b6207_row0_col2\" class=\"data row0 col2\" >10.100000</td>\n",
       "      <td id=\"T_b6207_row0_col3\" class=\"data row0 col3\" >class1</td>\n",
       "    </tr>\n",
       "    <tr>\n",
       "      <th id=\"T_b6207_level0_row1\" class=\"row_heading level0 row1\" >1</th>\n",
       "      <td id=\"T_b6207_row1_col0\" class=\"data row1 col0\" >red</td>\n",
       "      <td id=\"T_b6207_row1_col1\" class=\"data row1 col1\" >L</td>\n",
       "      <td id=\"T_b6207_row1_col2\" class=\"data row1 col2\" >13.500000</td>\n",
       "      <td id=\"T_b6207_row1_col3\" class=\"data row1 col3\" >class2</td>\n",
       "    </tr>\n",
       "    <tr>\n",
       "      <th id=\"T_b6207_level0_row2\" class=\"row_heading level0 row2\" >2</th>\n",
       "      <td id=\"T_b6207_row2_col0\" class=\"data row2 col0\" >blue</td>\n",
       "      <td id=\"T_b6207_row2_col1\" class=\"data row2 col1\" >XL</td>\n",
       "      <td id=\"T_b6207_row2_col2\" class=\"data row2 col2\" >15.300000</td>\n",
       "      <td id=\"T_b6207_row2_col3\" class=\"data row2 col3\" >class1</td>\n",
       "    </tr>\n",
       "  </tbody>\n",
       "</table>\n"
      ],
      "text/plain": [
       "<pandas.io.formats.style.Styler at 0x131253310>"
      ]
     },
     "execution_count": 4,
     "metadata": {},
     "output_type": "execute_result"
    }
   ],
   "source": [
    "df = pd.DataFrame([\n",
    "    ['green', 'M', 10.1, 'class1'],\n",
    "    ['red', 'L', 13.5, 'class2'],\n",
    "    ['blue', 'XL', 15.3, 'class1'],\n",
    "])\n",
    "\n",
    "df.columns = ['color', 'size', 'price', 'class label']\n",
    "show_dataset(df)"
   ]
  },
  {
   "cell_type": "markdown",
   "metadata": {},
   "source": [
    "## Encoding ordinal data"
   ]
  },
  {
   "cell_type": "code",
   "execution_count": 5,
   "metadata": {},
   "outputs": [
    {
     "data": {
      "text/html": [
       "<style type=\"text/css\">\n",
       "#T_1aee4_row0_col1, #T_1aee4_row0_col2 {\n",
       "  background-color: #f7fcf5;\n",
       "  color: #000000;\n",
       "}\n",
       "#T_1aee4_row1_col1 {\n",
       "  background-color: #73c476;\n",
       "  color: #000000;\n",
       "}\n",
       "#T_1aee4_row1_col2 {\n",
       "  background-color: #3aa357;\n",
       "  color: #f1f1f1;\n",
       "}\n",
       "#T_1aee4_row2_col1, #T_1aee4_row2_col2 {\n",
       "  background-color: #00441b;\n",
       "  color: #f1f1f1;\n",
       "}\n",
       "</style>\n",
       "<table id=\"T_1aee4\">\n",
       "  <thead>\n",
       "    <tr>\n",
       "      <th class=\"blank level0\" >&nbsp;</th>\n",
       "      <th id=\"T_1aee4_level0_col0\" class=\"col_heading level0 col0\" >color</th>\n",
       "      <th id=\"T_1aee4_level0_col1\" class=\"col_heading level0 col1\" >size</th>\n",
       "      <th id=\"T_1aee4_level0_col2\" class=\"col_heading level0 col2\" >price</th>\n",
       "      <th id=\"T_1aee4_level0_col3\" class=\"col_heading level0 col3\" >class label</th>\n",
       "    </tr>\n",
       "  </thead>\n",
       "  <tbody>\n",
       "    <tr>\n",
       "      <th id=\"T_1aee4_level0_row0\" class=\"row_heading level0 row0\" >0</th>\n",
       "      <td id=\"T_1aee4_row0_col0\" class=\"data row0 col0\" >green</td>\n",
       "      <td id=\"T_1aee4_row0_col1\" class=\"data row0 col1\" >1</td>\n",
       "      <td id=\"T_1aee4_row0_col2\" class=\"data row0 col2\" >10.100000</td>\n",
       "      <td id=\"T_1aee4_row0_col3\" class=\"data row0 col3\" >class1</td>\n",
       "    </tr>\n",
       "    <tr>\n",
       "      <th id=\"T_1aee4_level0_row1\" class=\"row_heading level0 row1\" >1</th>\n",
       "      <td id=\"T_1aee4_row1_col0\" class=\"data row1 col0\" >red</td>\n",
       "      <td id=\"T_1aee4_row1_col1\" class=\"data row1 col1\" >2</td>\n",
       "      <td id=\"T_1aee4_row1_col2\" class=\"data row1 col2\" >13.500000</td>\n",
       "      <td id=\"T_1aee4_row1_col3\" class=\"data row1 col3\" >class2</td>\n",
       "    </tr>\n",
       "    <tr>\n",
       "      <th id=\"T_1aee4_level0_row2\" class=\"row_heading level0 row2\" >2</th>\n",
       "      <td id=\"T_1aee4_row2_col0\" class=\"data row2 col0\" >blue</td>\n",
       "      <td id=\"T_1aee4_row2_col1\" class=\"data row2 col1\" >3</td>\n",
       "      <td id=\"T_1aee4_row2_col2\" class=\"data row2 col2\" >15.300000</td>\n",
       "      <td id=\"T_1aee4_row2_col3\" class=\"data row2 col3\" >class1</td>\n",
       "    </tr>\n",
       "  </tbody>\n",
       "</table>\n"
      ],
      "text/plain": [
       "<pandas.io.formats.style.Styler at 0x103e1e450>"
      ]
     },
     "execution_count": 5,
     "metadata": {},
     "output_type": "execute_result"
    }
   ],
   "source": [
    "size_mapping = {'XL': 3, 'L': 2, 'M': 1}\n",
    "df['size'] = df['size'].map(size_mapping)\n",
    "show_dataset(df)"
   ]
  },
  {
   "cell_type": "code",
   "execution_count": 6,
   "metadata": {},
   "outputs": [],
   "source": [
    "# to reverse the mapping later use:\n",
    "inverse_size_mapping = {v: k for k, v in size_mapping.items()}\n",
    "df2 = df.copy()\n",
    "df2['size'] = df2['size'].map(inverse_size_mapping)"
   ]
  },
  {
   "cell_type": "code",
   "execution_count": null,
   "metadata": {},
   "outputs": [],
   "source": [
    "# Use a threshold approach for the size feature\n",
    "df2['x > M'] = df2['size'].map(lambda x: 0 if x == 'M' else 1)\n",
    "df2['x > L'] = df2['size'].map(lambda x: 1 if x == 'XL' else 0)\n",
    "df2.drop('size', axis=1, inplace=True)\n",
    "\n",
    "show_dataset(df2)"
   ]
  },
  {
   "cell_type": "markdown",
   "metadata": {},
   "source": [
    "## Encoding class labels"
   ]
  },
  {
   "cell_type": "code",
   "execution_count": 7,
   "metadata": {},
   "outputs": [
    {
     "data": {
      "text/html": [
       "<style type=\"text/css\">\n",
       "#T_35d80_row0_col1, #T_35d80_row0_col2, #T_35d80_row0_col3, #T_35d80_row2_col3 {\n",
       "  background-color: #f7fcf5;\n",
       "  color: #000000;\n",
       "}\n",
       "#T_35d80_row1_col1 {\n",
       "  background-color: #73c476;\n",
       "  color: #000000;\n",
       "}\n",
       "#T_35d80_row1_col2 {\n",
       "  background-color: #3aa357;\n",
       "  color: #f1f1f1;\n",
       "}\n",
       "#T_35d80_row1_col3, #T_35d80_row2_col1, #T_35d80_row2_col2 {\n",
       "  background-color: #00441b;\n",
       "  color: #f1f1f1;\n",
       "}\n",
       "</style>\n",
       "<table id=\"T_35d80\">\n",
       "  <thead>\n",
       "    <tr>\n",
       "      <th class=\"blank level0\" >&nbsp;</th>\n",
       "      <th id=\"T_35d80_level0_col0\" class=\"col_heading level0 col0\" >color</th>\n",
       "      <th id=\"T_35d80_level0_col1\" class=\"col_heading level0 col1\" >size</th>\n",
       "      <th id=\"T_35d80_level0_col2\" class=\"col_heading level0 col2\" >price</th>\n",
       "      <th id=\"T_35d80_level0_col3\" class=\"col_heading level0 col3\" >class label</th>\n",
       "    </tr>\n",
       "  </thead>\n",
       "  <tbody>\n",
       "    <tr>\n",
       "      <th id=\"T_35d80_level0_row0\" class=\"row_heading level0 row0\" >0</th>\n",
       "      <td id=\"T_35d80_row0_col0\" class=\"data row0 col0\" >green</td>\n",
       "      <td id=\"T_35d80_row0_col1\" class=\"data row0 col1\" >1</td>\n",
       "      <td id=\"T_35d80_row0_col2\" class=\"data row0 col2\" >10.100000</td>\n",
       "      <td id=\"T_35d80_row0_col3\" class=\"data row0 col3\" >0</td>\n",
       "    </tr>\n",
       "    <tr>\n",
       "      <th id=\"T_35d80_level0_row1\" class=\"row_heading level0 row1\" >1</th>\n",
       "      <td id=\"T_35d80_row1_col0\" class=\"data row1 col0\" >red</td>\n",
       "      <td id=\"T_35d80_row1_col1\" class=\"data row1 col1\" >2</td>\n",
       "      <td id=\"T_35d80_row1_col2\" class=\"data row1 col2\" >13.500000</td>\n",
       "      <td id=\"T_35d80_row1_col3\" class=\"data row1 col3\" >1</td>\n",
       "    </tr>\n",
       "    <tr>\n",
       "      <th id=\"T_35d80_level0_row2\" class=\"row_heading level0 row2\" >2</th>\n",
       "      <td id=\"T_35d80_row2_col0\" class=\"data row2 col0\" >blue</td>\n",
       "      <td id=\"T_35d80_row2_col1\" class=\"data row2 col1\" >3</td>\n",
       "      <td id=\"T_35d80_row2_col2\" class=\"data row2 col2\" >15.300000</td>\n",
       "      <td id=\"T_35d80_row2_col3\" class=\"data row2 col3\" >0</td>\n",
       "    </tr>\n",
       "  </tbody>\n",
       "</table>\n"
      ],
      "text/plain": [
       "<pandas.io.formats.style.Styler at 0x131276450>"
      ]
     },
     "execution_count": 7,
     "metadata": {},
     "output_type": "execute_result"
    }
   ],
   "source": [
    "class_mapping = {label: i for i, label in enumerate(np.unique(df['class label']))}\n",
    "df['class label'] = df['class label'].map(class_mapping)\n",
    "show_dataset(df)"
   ]
  },
  {
   "cell_type": "code",
   "execution_count": 8,
   "metadata": {},
   "outputs": [
    {
     "data": {
      "text/html": [
       "<style type=\"text/css\">\n",
       "#T_415b6_row0_col1, #T_415b6_row0_col2, #T_415b6_row0_col3, #T_415b6_row2_col3 {\n",
       "  background-color: #f7fcf5;\n",
       "  color: #000000;\n",
       "}\n",
       "#T_415b6_row1_col1 {\n",
       "  background-color: #73c476;\n",
       "  color: #000000;\n",
       "}\n",
       "#T_415b6_row1_col2 {\n",
       "  background-color: #3aa357;\n",
       "  color: #f1f1f1;\n",
       "}\n",
       "#T_415b6_row1_col3, #T_415b6_row2_col1, #T_415b6_row2_col2 {\n",
       "  background-color: #00441b;\n",
       "  color: #f1f1f1;\n",
       "}\n",
       "</style>\n",
       "<table id=\"T_415b6\">\n",
       "  <thead>\n",
       "    <tr>\n",
       "      <th class=\"blank level0\" >&nbsp;</th>\n",
       "      <th id=\"T_415b6_level0_col0\" class=\"col_heading level0 col0\" >color</th>\n",
       "      <th id=\"T_415b6_level0_col1\" class=\"col_heading level0 col1\" >size</th>\n",
       "      <th id=\"T_415b6_level0_col2\" class=\"col_heading level0 col2\" >price</th>\n",
       "      <th id=\"T_415b6_level0_col3\" class=\"col_heading level0 col3\" >class label</th>\n",
       "    </tr>\n",
       "  </thead>\n",
       "  <tbody>\n",
       "    <tr>\n",
       "      <th id=\"T_415b6_level0_row0\" class=\"row_heading level0 row0\" >0</th>\n",
       "      <td id=\"T_415b6_row0_col0\" class=\"data row0 col0\" >green</td>\n",
       "      <td id=\"T_415b6_row0_col1\" class=\"data row0 col1\" >1</td>\n",
       "      <td id=\"T_415b6_row0_col2\" class=\"data row0 col2\" >10.100000</td>\n",
       "      <td id=\"T_415b6_row0_col3\" class=\"data row0 col3\" >0</td>\n",
       "    </tr>\n",
       "    <tr>\n",
       "      <th id=\"T_415b6_level0_row1\" class=\"row_heading level0 row1\" >1</th>\n",
       "      <td id=\"T_415b6_row1_col0\" class=\"data row1 col0\" >red</td>\n",
       "      <td id=\"T_415b6_row1_col1\" class=\"data row1 col1\" >2</td>\n",
       "      <td id=\"T_415b6_row1_col2\" class=\"data row1 col2\" >13.500000</td>\n",
       "      <td id=\"T_415b6_row1_col3\" class=\"data row1 col3\" >1</td>\n",
       "    </tr>\n",
       "    <tr>\n",
       "      <th id=\"T_415b6_level0_row2\" class=\"row_heading level0 row2\" >2</th>\n",
       "      <td id=\"T_415b6_row2_col0\" class=\"data row2 col0\" >blue</td>\n",
       "      <td id=\"T_415b6_row2_col1\" class=\"data row2 col1\" >3</td>\n",
       "      <td id=\"T_415b6_row2_col2\" class=\"data row2 col2\" >15.300000</td>\n",
       "      <td id=\"T_415b6_row2_col3\" class=\"data row2 col3\" >0</td>\n",
       "    </tr>\n",
       "  </tbody>\n",
       "</table>\n"
      ],
      "text/plain": [
       "<pandas.io.formats.style.Styler at 0x1479f6610>"
      ]
     },
     "execution_count": 8,
     "metadata": {},
     "output_type": "execute_result"
    }
   ],
   "source": [
    "# Alternative to the above using sklearn's LabelEncoder\n",
    "from sklearn.preprocessing import LabelEncoder\n",
    "\n",
    "class_le = LabelEncoder()\n",
    "y = class_le.fit_transform(df['class label']) # \".fit_transform\" is short for \".fit\" and then \".transform\"\n",
    "\n",
    "# need to convert back to data frame because the encoder returns a numpy array\n",
    "df3 = df.copy()\n",
    "df3['class label'] = pd.DataFrame(y)\n",
    "show_dataset(df3)\n"
   ]
  },
  {
   "cell_type": "markdown",
   "metadata": {},
   "source": [
    "## One-hot encoding for nominal data using pandas"
   ]
  },
  {
   "cell_type": "code",
   "execution_count": 11,
   "metadata": {},
   "outputs": [
    {
     "data": {
      "text/html": [
       "<style type=\"text/css\">\n",
       "#T_b5223_row0_col0, #T_b5223_row0_col1, #T_b5223_row0_col2, #T_b5223_row2_col2 {\n",
       "  background-color: #f7fcf5;\n",
       "  color: #000000;\n",
       "}\n",
       "#T_b5223_row1_col0 {\n",
       "  background-color: #73c476;\n",
       "  color: #000000;\n",
       "}\n",
       "#T_b5223_row1_col1 {\n",
       "  background-color: #3aa357;\n",
       "  color: #f1f1f1;\n",
       "}\n",
       "#T_b5223_row1_col2, #T_b5223_row2_col0, #T_b5223_row2_col1 {\n",
       "  background-color: #00441b;\n",
       "  color: #f1f1f1;\n",
       "}\n",
       "</style>\n",
       "<table id=\"T_b5223\">\n",
       "  <thead>\n",
       "    <tr>\n",
       "      <th class=\"blank level0\" >&nbsp;</th>\n",
       "      <th id=\"T_b5223_level0_col0\" class=\"col_heading level0 col0\" >size</th>\n",
       "      <th id=\"T_b5223_level0_col1\" class=\"col_heading level0 col1\" >price</th>\n",
       "      <th id=\"T_b5223_level0_col2\" class=\"col_heading level0 col2\" >class label</th>\n",
       "      <th id=\"T_b5223_level0_col3\" class=\"col_heading level0 col3\" >color_green</th>\n",
       "      <th id=\"T_b5223_level0_col4\" class=\"col_heading level0 col4\" >color_red</th>\n",
       "    </tr>\n",
       "  </thead>\n",
       "  <tbody>\n",
       "    <tr>\n",
       "      <th id=\"T_b5223_level0_row0\" class=\"row_heading level0 row0\" >0</th>\n",
       "      <td id=\"T_b5223_row0_col0\" class=\"data row0 col0\" >1</td>\n",
       "      <td id=\"T_b5223_row0_col1\" class=\"data row0 col1\" >10.100000</td>\n",
       "      <td id=\"T_b5223_row0_col2\" class=\"data row0 col2\" >0</td>\n",
       "      <td id=\"T_b5223_row0_col3\" class=\"data row0 col3\" >True</td>\n",
       "      <td id=\"T_b5223_row0_col4\" class=\"data row0 col4\" >False</td>\n",
       "    </tr>\n",
       "    <tr>\n",
       "      <th id=\"T_b5223_level0_row1\" class=\"row_heading level0 row1\" >1</th>\n",
       "      <td id=\"T_b5223_row1_col0\" class=\"data row1 col0\" >2</td>\n",
       "      <td id=\"T_b5223_row1_col1\" class=\"data row1 col1\" >13.500000</td>\n",
       "      <td id=\"T_b5223_row1_col2\" class=\"data row1 col2\" >1</td>\n",
       "      <td id=\"T_b5223_row1_col3\" class=\"data row1 col3\" >False</td>\n",
       "      <td id=\"T_b5223_row1_col4\" class=\"data row1 col4\" >True</td>\n",
       "    </tr>\n",
       "    <tr>\n",
       "      <th id=\"T_b5223_level0_row2\" class=\"row_heading level0 row2\" >2</th>\n",
       "      <td id=\"T_b5223_row2_col0\" class=\"data row2 col0\" >3</td>\n",
       "      <td id=\"T_b5223_row2_col1\" class=\"data row2 col1\" >15.300000</td>\n",
       "      <td id=\"T_b5223_row2_col2\" class=\"data row2 col2\" >0</td>\n",
       "      <td id=\"T_b5223_row2_col3\" class=\"data row2 col3\" >False</td>\n",
       "      <td id=\"T_b5223_row2_col4\" class=\"data row2 col4\" >False</td>\n",
       "    </tr>\n",
       "  </tbody>\n",
       "</table>\n"
      ],
      "text/plain": [
       "<pandas.io.formats.style.Styler at 0x1312c0f10>"
      ]
     },
     "execution_count": 11,
     "metadata": {},
     "output_type": "execute_result"
    }
   ],
   "source": [
    "# in pandas the concept of one-host encoding is called \"get_dummies\" (dummy variables are the binary digit variables)\n",
    "df_dum = pd.get_dummies(df, drop_first=True) # drop one of the three new features to avoid multicollinearity\n",
    "show_dataset(df_dum)"
   ]
  },
  {
   "cell_type": "code",
   "execution_count": 10,
   "metadata": {},
   "outputs": [
    {
     "data": {
      "text/html": [
       "<style type=\"text/css\">\n",
       "#T_9ef00_row0_col0, #T_9ef00_row0_col1, #T_9ef00_row0_col2, #T_9ef00_row0_col4, #T_9ef00_row1_col3, #T_9ef00_row2_col2, #T_9ef00_row2_col3, #T_9ef00_row2_col4 {\n",
       "  background-color: #f7fcf5;\n",
       "  color: #000000;\n",
       "}\n",
       "#T_9ef00_row0_col3, #T_9ef00_row1_col2, #T_9ef00_row1_col4, #T_9ef00_row2_col0, #T_9ef00_row2_col1 {\n",
       "  background-color: #00441b;\n",
       "  color: #f1f1f1;\n",
       "}\n",
       "#T_9ef00_row1_col0 {\n",
       "  background-color: #73c476;\n",
       "  color: #000000;\n",
       "}\n",
       "#T_9ef00_row1_col1 {\n",
       "  background-color: #3aa357;\n",
       "  color: #f1f1f1;\n",
       "}\n",
       "</style>\n",
       "<table id=\"T_9ef00\">\n",
       "  <thead>\n",
       "    <tr>\n",
       "      <th class=\"blank level0\" >&nbsp;</th>\n",
       "      <th id=\"T_9ef00_level0_col0\" class=\"col_heading level0 col0\" >size</th>\n",
       "      <th id=\"T_9ef00_level0_col1\" class=\"col_heading level0 col1\" >price</th>\n",
       "      <th id=\"T_9ef00_level0_col2\" class=\"col_heading level0 col2\" >class label</th>\n",
       "      <th id=\"T_9ef00_level0_col3\" class=\"col_heading level0 col3\" >color_green</th>\n",
       "      <th id=\"T_9ef00_level0_col4\" class=\"col_heading level0 col4\" >color_red</th>\n",
       "    </tr>\n",
       "  </thead>\n",
       "  <tbody>\n",
       "    <tr>\n",
       "      <th id=\"T_9ef00_level0_row0\" class=\"row_heading level0 row0\" >0</th>\n",
       "      <td id=\"T_9ef00_row0_col0\" class=\"data row0 col0\" >1</td>\n",
       "      <td id=\"T_9ef00_row0_col1\" class=\"data row0 col1\" >10.100000</td>\n",
       "      <td id=\"T_9ef00_row0_col2\" class=\"data row0 col2\" >0</td>\n",
       "      <td id=\"T_9ef00_row0_col3\" class=\"data row0 col3\" >1.000000</td>\n",
       "      <td id=\"T_9ef00_row0_col4\" class=\"data row0 col4\" >0.000000</td>\n",
       "    </tr>\n",
       "    <tr>\n",
       "      <th id=\"T_9ef00_level0_row1\" class=\"row_heading level0 row1\" >1</th>\n",
       "      <td id=\"T_9ef00_row1_col0\" class=\"data row1 col0\" >2</td>\n",
       "      <td id=\"T_9ef00_row1_col1\" class=\"data row1 col1\" >13.500000</td>\n",
       "      <td id=\"T_9ef00_row1_col2\" class=\"data row1 col2\" >1</td>\n",
       "      <td id=\"T_9ef00_row1_col3\" class=\"data row1 col3\" >0.000000</td>\n",
       "      <td id=\"T_9ef00_row1_col4\" class=\"data row1 col4\" >1.000000</td>\n",
       "    </tr>\n",
       "    <tr>\n",
       "      <th id=\"T_9ef00_level0_row2\" class=\"row_heading level0 row2\" >2</th>\n",
       "      <td id=\"T_9ef00_row2_col0\" class=\"data row2 col0\" >3</td>\n",
       "      <td id=\"T_9ef00_row2_col1\" class=\"data row2 col1\" >15.300000</td>\n",
       "      <td id=\"T_9ef00_row2_col2\" class=\"data row2 col2\" >0</td>\n",
       "      <td id=\"T_9ef00_row2_col3\" class=\"data row2 col3\" >0.000000</td>\n",
       "      <td id=\"T_9ef00_row2_col4\" class=\"data row2 col4\" >0.000000</td>\n",
       "    </tr>\n",
       "  </tbody>\n",
       "</table>\n"
      ],
      "text/plain": [
       "<pandas.io.formats.style.Styler at 0x16e2d58d0>"
      ]
     },
     "execution_count": 10,
     "metadata": {},
     "output_type": "execute_result"
    }
   ],
   "source": [
    "# use one-hot encoding using sklearn\n",
    "from sklearn.preprocessing import OneHotEncoder\n",
    "\n",
    "# sparse_output=False to return a regular numpy array instead of a sparse matrix\n",
    "# the alternative is to use sparse_output=True and then convert to a dense array using \".toarray()\" on the result\n",
    "# drop='first' to drop one of the three new features to avoid multicollinearity\n",
    "color_ohe = OneHotEncoder(drop='first', sparse_output=False)\n",
    "out = color_ohe.fit_transform(df[['color']]) # expects a 2D array\n",
    "# turn into data frame\n",
    "df_ohe = pd.DataFrame(out, columns=color_ohe.get_feature_names_out())\n",
    "\n",
    "# combine back into the original data frame\n",
    "df_ohe = pd.concat([df.drop(['color'], axis=1), df_ohe], axis=1)\n",
    "show_dataset(df_ohe)"
   ]
  },
  {
   "cell_type": "code",
   "execution_count": null,
   "metadata": {},
   "outputs": [],
   "source": [
    "# use one-hot encoding using sklearn's ColumnTransformer (alternative to the above)\n",
    "from sklearn.compose import ColumnTransformer\n",
    "from sklearn.preprocessing import OneHotEncoder\n",
    "\n",
    "ct = ColumnTransformer(\n",
    "    [\n",
    "        ('onehot', OneHotEncoder(drop='first'), ['color']),\n",
    "        # here we could add more transformers for other columns\n",
    "    ],\n",
    "    remainder='passthrough', # do noting to the untransformed columns\n",
    "    verbose_feature_names_out=False,\n",
    ")\n",
    "\n",
    "out = ct.fit_transform(df)\n",
    "\n",
    "# turn into data frame\n",
    "df_ohe = pd.DataFrame(out, columns=ct.get_feature_names_out())\n",
    "show_dataset(df_ohe)"
   ]
  }
 ],
 "metadata": {
  "kernelspec": {
   "display_name": ".venv",
   "language": "python",
   "name": "python3"
  },
  "language_info": {
   "codemirror_mode": {
    "name": "ipython",
    "version": 3
   },
   "file_extension": ".py",
   "mimetype": "text/x-python",
   "name": "python",
   "nbconvert_exporter": "python",
   "pygments_lexer": "ipython3",
   "version": "3.11.5"
  }
 },
 "nbformat": 4,
 "nbformat_minor": 2
}
