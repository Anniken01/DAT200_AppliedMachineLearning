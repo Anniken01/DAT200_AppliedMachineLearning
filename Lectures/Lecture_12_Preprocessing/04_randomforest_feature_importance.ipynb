{
 "cells": [
  {
   "cell_type": "code",
   "execution_count": null,
   "metadata": {},
   "outputs": [],
   "source": [
    "# Assess feature importance using a random forest classifier from scikit-learn\n",
    "import numpy as np\n",
    "import matplotlib.pyplot as plt\n",
    "from sklearn.ensemble import RandomForestClassifier\n",
    "from sklearn.model_selection import train_test_split\n",
    "from sklearn import datasets"
   ]
  },
  {
   "cell_type": "code",
   "execution_count": null,
   "metadata": {},
   "outputs": [],
   "source": [
    "# Load the data set\n",
    "#data = datasets.load_wine()\n",
    "#data = datasets.load_breast_cancer()\n",
    "data = datasets.load_diabetes()\n",
    "X = data.data\n",
    "y = data.target\n",
    "\n",
    "# Split the data into a training and test set\n",
    "X_train, X_test, y_train, y_test = train_test_split(X, y, test_size=0.3, random_state=42)\n",
    "\n",
    "# Train a random forest classifier\n",
    "clf = RandomForestClassifier(n_estimators=500, random_state=42)\n",
    "clf.fit(X_train, y_train)\n",
    "\n",
    "# Print the feature ranking as a list\n",
    "print(\"Feature ranking (descending importance):\")\n",
    "ranking = { data.feature_names[i]: clf.feature_importances_[i] for i in range(X.shape[1]) }\n",
    "feature_name_max_length = max(ranking.keys(), key=len)\n",
    "for i, feature in enumerate(sorted(ranking, key=ranking.get, reverse=True)):\n",
    "    print(f\"{i+1:2d}) {ranking[feature]:.4f} {feature}\")\n",
    "\n",
    "# Plot the feature importances of the forest\n",
    "# Feature names on the y-axis, importances on the x-axis\n",
    "# The most important features are at the top\n",
    "# This means we first have to sort the features\n",
    "feature_importance = clf.feature_importances_\n",
    "indices = np.argsort(feature_importance)\n",
    "\n",
    "plt.figure()\n",
    "plt.title(\"Feature importance\")\n",
    "plt.yticks(range(X.shape[1]), np.array(data.feature_names)[indices])\n",
    "\n",
    "# add error bars as well by computing the standard deviation of the feature importances\n",
    "std = np.std([tree.feature_importances_ for tree in clf.estimators_], axis=0)\n",
    "plt.barh(range(X.shape[1]), feature_importance[indices], xerr=std[indices], align=\"center\")\n",
    "\n",
    "plt.show()\n"
   ]
  },
  {
   "cell_type": "code",
   "execution_count": null,
   "metadata": {},
   "outputs": [],
   "source": [
    "# Plot correlation matrix\n",
    "import seaborn as sns\n",
    "import pandas as pd\n",
    "df = pd.DataFrame(X, columns=data.feature_names)\n",
    "df[\"target\"] = y\n",
    "correlation_matrix = df.corr()\n",
    "sns.heatmap(correlation_matrix, annot=True, cmap=\"coolwarm\")\n",
    "plt.show()"
   ]
  }
 ],
 "metadata": {
  "kernelspec": {
   "display_name": ".venv",
   "language": "python",
   "name": "python3"
  },
  "language_info": {
   "codemirror_mode": {
    "name": "ipython",
    "version": 3
   },
   "file_extension": ".py",
   "mimetype": "text/x-python",
   "name": "python",
   "nbconvert_exporter": "python",
   "pygments_lexer": "ipython3",
   "version": "3.9.6"
  }
 },
 "nbformat": 4,
 "nbformat_minor": 2
}
