{
 "cells": [
  {
   "cell_type": "code",
   "execution_count": null,
   "metadata": {},
   "outputs": [],
   "source": [
    "\"\"\"\n",
    "Train a descision tree model on data set with many features and plot the resulting tree\n",
    "\"\"\"\n",
    "\n",
    "from sklearn import datasets\n",
    "from sklearn.ensemble import RandomForestClassifier\n",
    "from sklearn.tree import DecisionTreeClassifier\n",
    "from sklearn.model_selection import train_test_split\n",
    "from sklearn.metrics import accuracy_score\n"
   ]
  },
  {
   "cell_type": "code",
   "execution_count": null,
   "metadata": {},
   "outputs": [],
   "source": [
    "# Generate a dataset for classification\n",
    "X, y = datasets.make_classification(n_samples=3000, n_features=20, n_informative=8, n_redundant=1, random_state=42, n_clusters_per_class=2)\n",
    "\n",
    "max_depth = None # None means no limit; an integer will limit the depth of the tree to that number\n",
    "criterion = 'gini' # or 'entropy'\n",
    "\n",
    "# Split the data into training and test sets\n",
    "X_train, X_test, y_train, y_test = train_test_split(X, y, test_size=0.3, random_state=42)\n",
    "\n",
    "# Train a random forest model\n",
    "model = RandomForestClassifier(n_estimators=1000, random_state=42, criterion=criterion, max_depth=max_depth, n_jobs=4)\n",
    "model.fit(X_train, y_train)\n",
    "\n",
    "# Calculate accuracy\n",
    "accuracy = accuracy_score(y_test, model.predict(X_test))\n",
    "accuracy_train = accuracy_score(y_train, model.predict(X_train))\n",
    "print(\n",
    "    f'Accuracy Random Forest (test): {accuracy:.2f}'\n",
    "    f'  Accuracy Random Forest (train): {accuracy_train:.2f}'\n",
    ")\n",
    "\n",
    "# print hyperparameters\n",
    "print(\"Random forest hyperparameters: \", model.get_params())\n",
    "\n",
    "# Train a single decision tree\n",
    "model = DecisionTreeClassifier(max_depth=max_depth, random_state=42, criterion=criterion)\n",
    "model.fit(X_train, y_train)\n",
    "\n",
    "# Calculate accuracy\n",
    "accuracy = accuracy_score(y_test, model.predict(X_test))\n",
    "accuracy_train = accuracy_score(y_train, model.predict(X_train))\n",
    "print(\n",
    "    f'Single Decision Tree Accuracy (test): {accuracy:.2f}'\n",
    "    f'  Single Decision Tree Accuracy (train): {accuracy_train:.2f}'\n",
    ")\n",
    "\n",
    "# print hyperparameters\n",
    "print(\"Decision tree hyperparameters: \", model.get_params())"
   ]
  }
 ],
 "metadata": {
  "kernelspec": {
   "display_name": ".venv",
   "language": "python",
   "name": "python3"
  },
  "language_info": {
   "codemirror_mode": {
    "name": "ipython",
    "version": 3
   },
   "file_extension": ".py",
   "mimetype": "text/x-python",
   "name": "python",
   "nbconvert_exporter": "python",
   "pygments_lexer": "ipython3",
   "version": "3.9.6"
  }
 },
 "nbformat": 4,
 "nbformat_minor": 2
}
