{
 "cells": [
  {
   "cell_type": "markdown",
   "metadata": {},
   "source": [
    "# Combining PCA and logisitic regression on the wine dataset"
   ]
  },
  {
   "cell_type": "code",
   "execution_count": null,
   "metadata": {},
   "outputs": [],
   "source": [
    "import matplotlib.pyplot as plt\n",
    "import numpy as np\n",
    "import seaborn as sns\n",
    "import pandas as pd\n",
    "\n",
    "from sklearn import datasets\n",
    "from sklearn.decomposition import PCA\n",
    "from sklearn.linear_model import LogisticRegression\n",
    "from sklearn.model_selection import train_test_split\n",
    "from sklearn.metrics import accuracy_score\n",
    "from sklearn.inspection import DecisionBoundaryDisplay\n",
    "from sklearn.preprocessing import StandardScaler\n",
    "from sklearn.feature_selection import SequentialFeatureSelector\n",
    "\n",
    "STANDARDIZE_FEATURES = True\n",
    "\n",
    "# Load the wine dataset\n",
    "data = datasets.load_wine()\n",
    "X = data.data\n",
    "y = data.target\n",
    "\n",
    "# Split the dataset into training and testing sets\n",
    "X_train, X_test, y_train, y_test = train_test_split(X, y, test_size=0.4, random_state=42)\n",
    "\n",
    "# Standardize the features\n",
    "if STANDARDIZE_FEATURES:\n",
    "    scaler = StandardScaler()\n",
    "    X_train = scaler.fit_transform(X_train)\n",
    "    X_test = scaler.transform(X_test)"
   ]
  },
  {
   "cell_type": "markdown",
   "metadata": {},
   "source": [
    "## PCA and Logistic Regression"
   ]
  },
  {
   "cell_type": "code",
   "execution_count": null,
   "metadata": {},
   "outputs": [],
   "source": [
    "# Perform PCA on the dataset selecting the first two principal components\n",
    "pca = PCA(n_components=2)\n",
    "pca.fit(X_train)\n",
    "X_train_pca = pca.transform(X_train)\n",
    "X_test_pca = pca.transform(X_test)\n",
    "\n",
    "# Train a logistic regression model\n",
    "model = LogisticRegression()\n",
    "model.fit(X_train_pca, y_train)\n",
    "\n",
    "# Plotting the results\n",
    "fig, ax = plt.subplots(1, 2, figsize=(8, 4))\n",
    "\n",
    "DecisionBoundaryDisplay.from_estimator(model, X_train_pca, ax=ax[0], alpha=0.5)\n",
    "DecisionBoundaryDisplay.from_estimator(model, X_test_pca, ax=ax[1], alpha=0.5)\n",
    "\n",
    "ax[0].scatter(X_train_pca[:, 0], X_train_pca[:, 1], c=y_train)\n",
    "ax[0].set_xlabel(\"Principal Component 1\")\n",
    "ax[0].set_ylabel(\"Principal Component 2\")\n",
    "accuracy = accuracy_score(y_train, model.predict(X_train_pca))\n",
    "ax[0].set_title(f\"Training data, accuracy: {accuracy:.2f}\")\n",
    "ax[1].scatter(X_test_pca[:, 0], X_test_pca[:, 1], c=y_test)\n",
    "ax[1].set_xlabel(\"Principal Component 1\")\n",
    "ax[1].set_ylabel(\"Principal Component 2\")\n",
    "accuracy = accuracy_score(y_test, model.predict(X_test_pca))\n",
    "ax[1].set_title(f\"Test data, accuracy: {accuracy:.2f}\")\n",
    "fig.tight_layout()\n",
    "plt.show()"
   ]
  },
  {
   "cell_type": "code",
   "execution_count": null,
   "metadata": {},
   "outputs": [],
   "source": [
    "# A box plot of the original data\n",
    "fig, ax = plt.subplots()\n",
    "ax.boxplot(X_train)\n",
    "ax.set_xticklabels(data.feature_names, rotation=90)\n",
    "plt.show()"
   ]
  },
  {
   "cell_type": "code",
   "execution_count": null,
   "metadata": {},
   "outputs": [],
   "source": [
    "# Check the loadings on the first two principal components\n",
    "# This will give some insight which original features contribute most to the 2 principal components\n",
    "print(\"Loadings on the first two principal components:\")\n",
    "loadings = pca.components_.T * np.sqrt(pca.explained_variance_)\n",
    "\n",
    "fig, ax = plt.subplots(1, 2, figsize=(8, 4), sharey=True)\n",
    "num_features = len(data.feature_names)\n",
    "\n",
    "for i in range(2):\n",
    "    ax[i].barh(range(num_features), loadings[:, i])\n",
    "    ax[i].set_yticks(range(num_features))\n",
    "    ax[i].set_yticklabels(data.feature_names)\n",
    "    ax[i].set_title(f\"Principal Component {i+1}\")\n",
    "    ax[i].set_xlabel(\"Loading\")\n",
    "\n",
    "fig.tight_layout()\n",
    "plt.show()"
   ]
  },
  {
   "cell_type": "code",
   "execution_count": null,
   "metadata": {},
   "outputs": [],
   "source": [
    "# pair plot of the first two principal components\n",
    "X_train_pca_df = pd.DataFrame(X_train_pca, columns=[\"PC1\", \"PC2\"])\n",
    "X_train_pca_df[\"target\"] = y_train\n",
    "sns.pairplot(X_train_pca_df, hue=\"target\", height=2, palette=\"viridis\")"
   ]
  },
  {
   "cell_type": "markdown",
   "metadata": {},
   "source": [
    "## Sequential Feature Selection and Logistic Regression"
   ]
  },
  {
   "cell_type": "code",
   "execution_count": null,
   "metadata": {},
   "outputs": [],
   "source": [
    "# Standardize the features\n",
    "scaler = StandardScaler()\n",
    "X_train = scaler.fit_transform(X_train)\n",
    "X_test = scaler.transform(X_test)\n",
    "\n",
    "# Instead use sequential feature selection to select the most important features\n",
    "model = LogisticRegression()\n",
    "sfs = SequentialFeatureSelector(model, n_features_to_select=2, direction=\"backward\")\n",
    "sfs.fit(X_train, y_train)\n",
    "X_train_sfs = sfs.transform(X_train)\n",
    "X_test_sfs = sfs.transform(X_test)\n",
    "\n",
    "# Print selected features\n",
    "print(\"Selected features:\")\n",
    "features = np.array(data.feature_names)[sfs.get_support(True)]\n",
    "print(features)\n",
    "\n",
    "# Train a logistic regression model\n",
    "model = LogisticRegression()\n",
    "model.fit(X_train_sfs, y_train)\n",
    "\n",
    "# Plotting the results\n",
    "fig, ax = plt.subplots(1, 2, figsize=(8, 4))\n",
    "\n",
    "DecisionBoundaryDisplay.from_estimator(model, X_train_sfs, ax=ax[0], alpha=0.5)\n",
    "DecisionBoundaryDisplay.from_estimator(model, X_test_sfs, ax=ax[1], alpha=0.5)\n",
    "\n",
    "ax[0].scatter(X_train_sfs[:, 0], X_train_sfs[:, 1], c=y_train)\n",
    "ax[0].set_xlabel(f\"{features[0]}\")\n",
    "ax[0].set_ylabel(f\"{features[1]}\")\n",
    "accuracy = accuracy_score(y_train, model.predict(X_train_sfs))\n",
    "ax[0].set_title(f\"Training data, accuracy: {accuracy:.2f}\")\n",
    "ax[1].scatter(X_test_sfs[:, 0], X_test_sfs[:, 1], c=y_test)\n",
    "ax[1].set_xlabel(f\"{features[0]}\")\n",
    "ax[1].set_ylabel(f\"{features[1]}\")\n",
    "accuracy = accuracy_score(y_test, model.predict(X_test_sfs))\n",
    "ax[1].set_title(f\"Test data, accuracy: {accuracy:.2f}\")\n",
    "fig.tight_layout()\n",
    "plt.show()"
   ]
  }
 ],
 "metadata": {
  "kernelspec": {
   "display_name": ".venv",
   "language": "python",
   "name": "python3"
  },
  "language_info": {
   "codemirror_mode": {
    "name": "ipython",
    "version": 3
   },
   "file_extension": ".py",
   "mimetype": "text/x-python",
   "name": "python",
   "nbconvert_exporter": "python",
   "pygments_lexer": "ipython3",
   "version": "3.9.6"
  }
 },
 "nbformat": 4,
 "nbformat_minor": 2
}
