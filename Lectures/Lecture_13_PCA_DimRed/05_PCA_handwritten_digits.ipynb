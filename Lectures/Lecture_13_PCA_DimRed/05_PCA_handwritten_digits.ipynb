{
 "cells": [
  {
   "cell_type": "markdown",
   "metadata": {},
   "source": [
    "## PCA applied to the handwritten digits dataset"
   ]
  },
  {
   "cell_type": "code",
   "execution_count": null,
   "metadata": {},
   "outputs": [],
   "source": [
    "import numpy as np\n",
    "import matplotlib.pyplot as plt\n",
    "from sklearn import datasets\n",
    "from sklearn.decomposition import PCA\n"
   ]
  },
  {
   "cell_type": "code",
   "execution_count": null,
   "metadata": {},
   "outputs": [],
   "source": [
    "# Load the handwritten digits dataset\n",
    "digits = datasets.load_digits()\n",
    "X = digits.data\n",
    "y = digits.target\n",
    "\n",
    "# Plot the first 64 samples in a 8x8 grid\n",
    "fig, ax = plt.subplots(8, 8, figsize=(4, 4))\n",
    "for i, axi in enumerate(ax.flat):\n",
    "    axi.imshow(digits.images[i], cmap='binary')\n",
    "    axi.set(xticks=[], yticks=[])\n",
    "fig.suptitle(\"First 64 samples of the digits dataset\")\n",
    "fig.tight_layout()\n",
    "plt.show()\n"
   ]
  },
  {
   "cell_type": "markdown",
   "metadata": {},
   "source": [
    "## Visualizing the first 2 principal components of the handwritten digits dataset"
   ]
  },
  {
   "cell_type": "code",
   "execution_count": null,
   "metadata": {},
   "outputs": [],
   "source": [
    "# Create a PCA model that keeps two features\n",
    "pca = PCA(n_components=2)\n",
    "\n",
    "# Fit and transform the data to the model\n",
    "reduced_data_pca = pca.fit_transform(X)\n",
    "\n",
    "fig, ax = plt.subplots(1, 1, figsize=(5, 5))\n",
    "handle = ax.scatter(reduced_data_pca[:, 0], reduced_data_pca[:, 1], c=digits.target, cmap='Paired_r', s=5)\n",
    "ax.set_title(\"2D projection of the digits dataset (PCA)\")\n",
    "ax.set_xlabel(\"First principal component (PC1)\")\n",
    "ax.set_ylabel(\"Second principal component (PC2)\")\n",
    "\n",
    "# add labels with the digit number at the center of each cluster\n",
    "for i in np.unique(digits.target):\n",
    "    xtext, ytext = reduced_data_pca[digits.target == i].mean(axis=0)\n",
    "    color = handle.get_cmap()(i/(len(np.unique(digits.target))-1))\n",
    "    ax.annotate(\n",
    "        f\"{i}\", (xtext, ytext), fontsize=10, fontweight='bold', color=color,\n",
    "        bbox=dict(facecolor='white', edgecolor=color, boxstyle='circle')\n",
    "    )\n",
    "\n",
    "fig.tight_layout()\n",
    "plt.show()"
   ]
  }
 ],
 "metadata": {
  "kernelspec": {
   "display_name": ".venv",
   "language": "python",
   "name": "python3"
  },
  "language_info": {
   "codemirror_mode": {
    "name": "ipython",
    "version": 3
   },
   "file_extension": ".py",
   "mimetype": "text/x-python",
   "name": "python",
   "nbconvert_exporter": "python",
   "pygments_lexer": "ipython3",
   "version": "3.9.6"
  }
 },
 "nbformat": 4,
 "nbformat_minor": 2
}
